{
 "cells": [
  {
   "cell_type": "markdown",
   "metadata": {},
   "source": [
    "# CSI4106 - RSPCT - ULMFiT\n",
    "adapted from lesson 3 of fast.ai Practical Deep Learning for Coders, v3"
   ]
  },
  {
   "cell_type": "code",
   "execution_count": 1,
   "metadata": {},
   "outputs": [],
   "source": [
    "%reload_ext autoreload\n",
    "%autoreload 2\n",
    "%matplotlib inline"
   ]
  },
  {
   "cell_type": "code",
   "execution_count": 2,
   "metadata": {},
   "outputs": [],
   "source": [
    "from fastai.text import *"
   ]
  },
  {
   "cell_type": "markdown",
   "metadata": {},
   "source": [
    "# Dataset from Kaggle"
   ]
  },
  {
   "cell_type": "markdown",
   "metadata": {},
   "source": [
    "Data is a tab-separated value (tsv) file from Kaggle https://www.kaggle.com/mswarbrickjones/reddit-selfposts <br>\n",
    "Columns id, subreddit, title, selftext"
   ]
  },
  {
   "cell_type": "code",
   "execution_count": 3,
   "metadata": {},
   "outputs": [
    {
     "data": {
      "text/plain": [
       "[PosixPath('/home/jupyter/tutorials/fastai/course-v3/nbs/dl1/data_rspct/models'),\n",
       " PosixPath('/home/jupyter/tutorials/fastai/course-v3/nbs/dl1/data_rspct/data_lm.pkl'),\n",
       " PosixPath('/home/jupyter/tutorials/fastai/course-v3/nbs/dl1/data_rspct/rspct.tsv'),\n",
       " PosixPath('/home/jupyter/tutorials/fastai/course-v3/nbs/dl1/data_rspct/data_clas.pkl'),\n",
       " PosixPath('/home/jupyter/tutorials/fastai/course-v3/nbs/dl1/data_rspct/subreddit_info.csv'),\n",
       " PosixPath('/home/jupyter/tutorials/fastai/course-v3/nbs/dl1/data_rspct/data_save.pkl')]"
      ]
     },
     "execution_count": 3,
     "metadata": {},
     "output_type": "execute_result"
    }
   ],
   "source": [
    "path = Path('/home/jupyter/tutorials/fastai/course-v3/nbs/dl1/data_rspct')\n",
    "path.ls()"
   ]
  },
  {
   "cell_type": "code",
   "execution_count": 5,
   "metadata": {},
   "outputs": [
    {
     "data": {
      "text/html": [
       "<div>\n",
       "<style scoped>\n",
       "    .dataframe tbody tr th:only-of-type {\n",
       "        vertical-align: middle;\n",
       "    }\n",
       "\n",
       "    .dataframe tbody tr th {\n",
       "        vertical-align: top;\n",
       "    }\n",
       "\n",
       "    .dataframe thead th {\n",
       "        text-align: right;\n",
       "    }\n",
       "</style>\n",
       "<table border=\"1\" class=\"dataframe\">\n",
       "  <thead>\n",
       "    <tr style=\"text-align: right;\">\n",
       "      <th></th>\n",
       "      <th>id</th>\n",
       "      <th>subreddit</th>\n",
       "      <th>title</th>\n",
       "      <th>selftext</th>\n",
       "    </tr>\n",
       "  </thead>\n",
       "  <tbody>\n",
       "    <tr>\n",
       "      <th>0</th>\n",
       "      <td>6d8knd</td>\n",
       "      <td>talesfromtechsupport</td>\n",
       "      <td>Remember your command line switches...</td>\n",
       "      <td>Hi there,  &lt;lb&gt;The usual. Long time lerker, fi...</td>\n",
       "    </tr>\n",
       "    <tr>\n",
       "      <th>1</th>\n",
       "      <td>58mbft</td>\n",
       "      <td>teenmom</td>\n",
       "      <td>So what was Matt \"addicted\" to?</td>\n",
       "      <td>Did he ever say what his addiction was or is h...</td>\n",
       "    </tr>\n",
       "    <tr>\n",
       "      <th>2</th>\n",
       "      <td>8f73s7</td>\n",
       "      <td>Harley</td>\n",
       "      <td>No Club Colors</td>\n",
       "      <td>Funny story. I went to college in Las Vegas. T...</td>\n",
       "    </tr>\n",
       "    <tr>\n",
       "      <th>3</th>\n",
       "      <td>6ti6re</td>\n",
       "      <td>ringdoorbell</td>\n",
       "      <td>Not door bell, but floodlight mount height.</td>\n",
       "      <td>I know this is a sub for the 'Ring Doorbell' b...</td>\n",
       "    </tr>\n",
       "    <tr>\n",
       "      <th>4</th>\n",
       "      <td>77sxto</td>\n",
       "      <td>intel</td>\n",
       "      <td>Worried about my 8700k small fft/data stress r...</td>\n",
       "      <td>Prime95 (regardless of version) and OCCT both,...</td>\n",
       "    </tr>\n",
       "  </tbody>\n",
       "</table>\n",
       "</div>"
      ],
      "text/plain": [
       "       id             subreddit  \\\n",
       "0  6d8knd  talesfromtechsupport   \n",
       "1  58mbft               teenmom   \n",
       "2  8f73s7                Harley   \n",
       "3  6ti6re          ringdoorbell   \n",
       "4  77sxto                 intel   \n",
       "\n",
       "                                               title  \\\n",
       "0             Remember your command line switches...   \n",
       "1                    So what was Matt \"addicted\" to?   \n",
       "2                                     No Club Colors   \n",
       "3        Not door bell, but floodlight mount height.   \n",
       "4  Worried about my 8700k small fft/data stress r...   \n",
       "\n",
       "                                            selftext  \n",
       "0  Hi there,  <lb>The usual. Long time lerker, fi...  \n",
       "1  Did he ever say what his addiction was or is h...  \n",
       "2  Funny story. I went to college in Las Vegas. T...  \n",
       "3  I know this is a sub for the 'Ring Doorbell' b...  \n",
       "4  Prime95 (regardless of version) and OCCT both,...  "
      ]
     },
     "execution_count": 5,
     "metadata": {},
     "output_type": "execute_result"
    }
   ],
   "source": [
    "df = pd.read_csv('data_rspct/rspct.tsv',sep='\\t')\n",
    "df.head()"
   ]
  },
  {
   "cell_type": "markdown",
   "metadata": {},
   "source": [
    "File contains one line per selfpost, with the subreddit (to be used as label), the self-post title and the self-post text. <br>\n",
    "Create a TextDataBunch containing the subreddit data. <br>\n",
    "Tokenizing and converting to numerical values is done by the library so this takes a little while. <br>\n",
    "Tokens are converted to integers by creating a list of all the words used. fast.ai only keeps the ones that appear at least twice with a maximum vocabulary size of 60,000 (by default) and replaces the ones that don't by the unknown token `UNK`. <br>\n",
    "The correspondance from ids to tokens is stored in the `vocab` attribute of the dataset, in a dictionary called `itos` (for int to string)."
   ]
  },
  {
   "cell_type": "markdown",
   "metadata": {},
   "source": [
    "## Language model"
   ]
  },
  {
   "cell_type": "markdown",
   "metadata": {},
   "source": [
    "Set the batch size"
   ]
  },
  {
   "cell_type": "code",
   "execution_count": 4,
   "metadata": {},
   "outputs": [],
   "source": [
    "bs=48"
   ]
  },
  {
   "cell_type": "markdown",
   "metadata": {},
   "source": [
    "Adapted from the fast.ai explanation:\n",
    "This uses a model pretrained on a bigger dataset (a cleaned subset of wikipedia called [wikitext-103](https://einstein.ai/research/blog/the-wikitext-long-term-dependency-language-modeling-dataset)). That model has been trained to guess what the next word is, its input being all the previous words. It has a recurrent structure and a hidden state that is updated each time it sees a new word. This hidden state thus contains information about the sentence up to that point.\n",
    "\n",
    "We are going to use that 'knowledge' of the English language to build our classifier, but first, like for computer vision, we need to fine-tune the pretrained model to our particular dataset. Because the English of the reddit posts isn't the same as the English of wikipedia, we'll need to adjust the parameters of our model by a little bit. Plus there might be some words that would be extremely common in the reddit dataset but would be barely present in wikipedia, and therefore might not be part of the vocabulary the model was trained on."
   ]
  },
  {
   "cell_type": "markdown",
   "metadata": {},
   "source": [
    "The model will be fine-tuned using the reddit posts without labels."
   ]
  },
  {
   "cell_type": "code",
   "execution_count": 7,
   "metadata": {},
   "outputs": [],
   "source": [
    "data_lm = TextLMDataBunch.from_csv(path, 'rspct.tsv', delimiter='\\t',label_cols='subreddit',text_cols=['title','selftext'])\n",
    "data_lm.save('data_lm.pkl')"
   ]
  },
  {
   "cell_type": "markdown",
   "metadata": {},
   "source": [
    "from  fast.ai explanation: Use a special kind of `TextDataBunch` for the language model, that ignores the labels, will shuffle the texts at each epoch before concatenating them all together (only for training, we don't shuffle for the validation set) and will send batches that read that text in order with targets that are the next word in the sentence."
   ]
  },
  {
   "cell_type": "code",
   "execution_count": 6,
   "metadata": {},
   "outputs": [],
   "source": [
    "data_lm = load_data(path, 'data_lm.pkl', bs=bs)"
   ]
  },
  {
   "cell_type": "code",
   "execution_count": 7,
   "metadata": {},
   "outputs": [
    {
     "data": {
      "text/html": [
       "<table border=\"1\" class=\"dataframe\">\n",
       "  <thead>\n",
       "    <tr style=\"text-align: right;\">\n",
       "      <th>idx</th>\n",
       "      <th>text</th>\n",
       "    </tr>\n",
       "  </thead>\n",
       "  <tbody>\n",
       "    <tr>\n",
       "      <td>0</td>\n",
       "      <td>dlcs after this xxbos xxmaj first trip of the year xxmaj my friends and i are finally getting back in the woods this weekend . xxmaj we have n't had a chance to get together and camp for about a year due to jobs , family and life in general . i know , for myself , it 's a much needed diversion from the normal grind of life .</td>\n",
       "    </tr>\n",
       "    <tr>\n",
       "      <td>1</td>\n",
       "      <td>a duet with xxmaj santa and xxmaj jesus singing a duet together . xxmaj it was cut from being released on the album because they did n't have the rights to the song \" xxmaj rio \" . xxmaj also , when you watch / listen to the duet , it sounds cut . &lt; lb&gt;&lt;lb &gt; xxmaj for promotional reasons , they released a vinyl version ( not for</td>\n",
       "    </tr>\n",
       "    <tr>\n",
       "      <td>2</td>\n",
       "      <td>lb &gt; xxmaj bamco has to get a slice of that xxmaj kai pie ... and with seven new units , why not make a banner out of it ? xxmaj the xxmaj kai xxmaj banner ! xxmaj pull on it and get a xxmaj kai ! xxmaj not necessarily [ xxmaj elder xxmaj kai ] ( / int ) , but a xxmaj kai ! xxmaj perhaps you 'll</td>\n",
       "    </tr>\n",
       "    <tr>\n",
       "      <td>3</td>\n",
       "      <td>not ever had seen them , but this was every day . xxmaj for two years . i only ever worse long sleeves in the winter , but i always had my sleeves rolled up to do the xxunk &gt; xxmaj eventually i got grounded for something minor , like asking to finish my homework before doing chores . i got fed up and cut myself on my shoulder a</td>\n",
       "    </tr>\n",
       "    <tr>\n",
       "      <td>4</td>\n",
       "      <td>&gt; thanks , feel free to disregard and try to please refrain from unnecessary comments . xxbos i want to pay for xxmaj english lessons in xxup hcm for my girlfriend . xxmaj where and how much ? xxmaj hi all,&lt;lb&gt;&lt;lb &gt; xxmaj my girlfriend and i will likely be engaged to marry and begin the visa process soon . i want her to spend that time learning xxmaj english</td>\n",
       "    </tr>\n",
       "  </tbody>\n",
       "</table>"
      ],
      "text/plain": [
       "<IPython.core.display.HTML object>"
      ]
     },
     "metadata": {},
     "output_type": "display_data"
    }
   ],
   "source": [
    "data_lm.show_batch()"
   ]
  },
  {
   "cell_type": "markdown",
   "metadata": {},
   "source": [
    "This data is used in a fast.ai learner object with a model loaded with the pretrained weights. Weights are stored in `~/.fastai/models/`"
   ]
  },
  {
   "cell_type": "code",
   "execution_count": 8,
   "metadata": {},
   "outputs": [],
   "source": [
    "learn = language_model_learner(data_lm, AWD_LSTM, drop_mult=0.3)"
   ]
  },
  {
   "cell_type": "code",
   "execution_count": 11,
   "metadata": {},
   "outputs": [
    {
     "data": {
      "text/html": [],
      "text/plain": [
       "<IPython.core.display.HTML object>"
      ]
     },
     "metadata": {},
     "output_type": "display_data"
    },
    {
     "name": "stdout",
     "output_type": "stream",
     "text": [
      "LR Finder is complete, type {learner_name}.recorder.plot() to see the graph.\n"
     ]
    }
   ],
   "source": [
    "learn.lr_find()"
   ]
  },
  {
   "cell_type": "code",
   "execution_count": 12,
   "metadata": {},
   "outputs": [
    {
     "data": {
      "image/png": "[encoded data removed]",
      "text/plain": [
       "<Figure size 432x288 with 1 Axes>"
      ]
     },
     "metadata": {
      "needs_background": "light"
     },
     "output_type": "display_data"
    }
   ],
   "source": [
    "learn.recorder.plot(skip_end=15)"
   ]
  },
  {
   "cell_type": "code",
   "execution_count": 35,
   "metadata": {},
   "outputs": [
    {
     "data": {
      "text/html": [
       "<table border=\"1\" class=\"dataframe\">\n",
       "  <thead>\n",
       "    <tr style=\"text-align: left;\">\n",
       "      <th>epoch</th>\n",
       "      <th>train_loss</th>\n",
       "      <th>valid_loss</th>\n",
       "      <th>accuracy</th>\n",
       "      <th>time</th>\n",
       "    </tr>\n",
       "  </thead>\n",
       "  <tbody>\n",
       "    <tr>\n",
       "      <td>0</td>\n",
       "      <td>4.327817</td>\n",
       "      <td>4.167275</td>\n",
       "      <td>0.276956</td>\n",
       "      <td>2:25:43</td>\n",
       "    </tr>\n",
       "  </tbody>\n",
       "</table>"
      ],
      "text/plain": [
       "<IPython.core.display.HTML object>"
      ]
     },
     "metadata": {},
     "output_type": "display_data"
    }
   ],
   "source": [
    "learn.fit_one_cycle(1, 1e-2, moms=(0.8,0.7))"
   ]
  },
  {
   "cell_type": "code",
   "execution_count": 36,
   "metadata": {},
   "outputs": [],
   "source": [
    "learn.save('fit_head')"
   ]
  },
  {
   "cell_type": "code",
   "execution_count": 13,
   "metadata": {},
   "outputs": [],
   "source": [
    "learn.load('fit_head');"
   ]
  },
  {
   "cell_type": "markdown",
   "metadata": {},
   "source": [
    "To complete the fine-tuning, unfreeze and launch a new training (this takes 24 hours with full dataset!!!)."
   ]
  },
  {
   "cell_type": "code",
   "execution_count": 14,
   "metadata": {},
   "outputs": [],
   "source": [
    "learn.unfreeze()"
   ]
  },
  {
   "cell_type": "code",
   "execution_count": 15,
   "metadata": {},
   "outputs": [
    {
     "data": {
      "text/html": [
       "<table border=\"1\" class=\"dataframe\">\n",
       "  <thead>\n",
       "    <tr style=\"text-align: left;\">\n",
       "      <th>epoch</th>\n",
       "      <th>train_loss</th>\n",
       "      <th>valid_loss</th>\n",
       "      <th>accuracy</th>\n",
       "      <th>time</th>\n",
       "    </tr>\n",
       "  </thead>\n",
       "  <tbody>\n",
       "    <tr>\n",
       "      <td>0</td>\n",
       "      <td>4.072336</td>\n",
       "      <td>4.001735</td>\n",
       "      <td>0.309790</td>\n",
       "      <td>2:44:45</td>\n",
       "    </tr>\n",
       "    <tr>\n",
       "      <td>1</td>\n",
       "      <td>3.870203</td>\n",
       "      <td>3.788206</td>\n",
       "      <td>0.324089</td>\n",
       "      <td>2:44:57</td>\n",
       "    </tr>\n",
       "    <tr>\n",
       "      <td>2</td>\n",
       "      <td>3.800969</td>\n",
       "      <td>3.715251</td>\n",
       "      <td>0.328850</td>\n",
       "      <td>2:44:57</td>\n",
       "    </tr>\n",
       "    <tr>\n",
       "      <td>3</td>\n",
       "      <td>3.761758</td>\n",
       "      <td>3.682413</td>\n",
       "      <td>0.331832</td>\n",
       "      <td>2:45:21</td>\n",
       "    </tr>\n",
       "    <tr>\n",
       "      <td>4</td>\n",
       "      <td>3.712821</td>\n",
       "      <td>3.652187</td>\n",
       "      <td>0.334605</td>\n",
       "      <td>2:44:40</td>\n",
       "    </tr>\n",
       "    <tr>\n",
       "      <td>5</td>\n",
       "      <td>3.675642</td>\n",
       "      <td>3.621999</td>\n",
       "      <td>0.337940</td>\n",
       "      <td>2:44:14</td>\n",
       "    </tr>\n",
       "    <tr>\n",
       "      <td>6</td>\n",
       "      <td>3.676834</td>\n",
       "      <td>3.591284</td>\n",
       "      <td>0.341628</td>\n",
       "      <td>2:44:13</td>\n",
       "    </tr>\n",
       "    <tr>\n",
       "      <td>7</td>\n",
       "      <td>3.625572</td>\n",
       "      <td>3.562270</td>\n",
       "      <td>0.344973</td>\n",
       "      <td>2:44:09</td>\n",
       "    </tr>\n",
       "    <tr>\n",
       "      <td>8</td>\n",
       "      <td>3.590290</td>\n",
       "      <td>3.545149</td>\n",
       "      <td>0.347131</td>\n",
       "      <td>2:44:21</td>\n",
       "    </tr>\n",
       "    <tr>\n",
       "      <td>9</td>\n",
       "      <td>3.566616</td>\n",
       "      <td>3.539950</td>\n",
       "      <td>0.347713</td>\n",
       "      <td>2:44:38</td>\n",
       "    </tr>\n",
       "  </tbody>\n",
       "</table>"
      ],
      "text/plain": [
       "<IPython.core.display.HTML object>"
      ]
     },
     "metadata": {},
     "output_type": "display_data"
    }
   ],
   "source": [
    "learn.fit_one_cycle(10, 1e-3, moms=(0.8,0.7))"
   ]
  },
  {
   "cell_type": "code",
   "execution_count": 16,
   "metadata": {},
   "outputs": [],
   "source": [
    "learn.save('fine_tuned')"
   ]
  },
  {
   "cell_type": "markdown",
   "metadata": {},
   "source": [
    "How good is this model? Well let's try to see what it predicts after a few given words."
   ]
  },
  {
   "cell_type": "code",
   "execution_count": 9,
   "metadata": {},
   "outputs": [],
   "source": [
    "learn.load('fine_tuned');"
   ]
  },
  {
   "cell_type": "code",
   "execution_count": 10,
   "metadata": {},
   "outputs": [],
   "source": [
    "TEXT = \"I contacted webchat through the official EE site and spoke to 3 tech staff and the same manager twice. They all said it's a scam.The web address in the link changes when you click on it. I can't log in through this page but everything else looks genuine. I also spoke to\"\n",
    "N_WORDS = 40\n",
    "N_SENTENCES = 2"
   ]
  },
  {
   "cell_type": "code",
   "execution_count": 11,
   "metadata": {},
   "outputs": [
    {
     "name": "stdout",
     "output_type": "stream",
     "text": [
      "I contacted webchat through the official EE site and spoke to 3 tech staff and the same manager twice. They all said it's a scam.The web address in the link changes when you click on it. I can't log in through this page but everything else looks genuine. I also spoke to the customer service service rep and he was very nice and did n't seem too worried . i just assumed it was a scam because i was better at transferring money to my local bank because i was too excited\n",
      "I contacted webchat through the official EE site and spoke to 3 tech staff and the same manager twice. They all said it's a scam.The web address in the link changes when you click on it. I can't log in through this page but everything else looks genuine. I also spoke to an agent and he will be sending a ticket today . Wtf is going on ? Is it normal to be unable to update the beta ? Ca n't seem to get it working . xxbos\n"
     ]
    }
   ],
   "source": [
    "print(\"\\n\".join(learn.predict(TEXT, N_WORDS, temperature=0.75) for _ in range(N_SENTENCES)))"
   ]
  },
  {
   "cell_type": "markdown",
   "metadata": {},
   "source": [
    "We have to save not only the model, but also its encoder, the part that's responsible for creating and updating the hidden state. For the next part, we don't care about the part that tries to guess the next word."
   ]
  },
  {
   "cell_type": "code",
   "execution_count": 20,
   "metadata": {},
   "outputs": [],
   "source": [
    "learn.save_encoder('fine_tuned_enc')"
   ]
  },
  {
   "cell_type": "markdown",
   "metadata": {},
   "source": [
    "## Classifier"
   ]
  },
  {
   "cell_type": "markdown",
   "metadata": {},
   "source": [
    "Create a new data object for the classifier that uses the labelled data (takes a bit of time) and save result to save time on future runs"
   ]
  },
  {
   "cell_type": "code",
   "execution_count": 21,
   "metadata": {},
   "outputs": [],
   "source": [
    "data_clas = TextClasDataBunch.from_csv(path, 'rspct.tsv', delimiter='\\t',label_cols='subreddit',text_cols=['title','selftext'],vocab=data_lm.vocab)\n",
    "data_clas.save('data_clas.pkl')"
   ]
  },
  {
   "cell_type": "code",
   "execution_count": 12,
   "metadata": {},
   "outputs": [],
   "source": [
    "data_clas = load_data(path, 'data_clas.pkl', bs=bs)"
   ]
  },
  {
   "cell_type": "code",
   "execution_count": 23,
   "metadata": {},
   "outputs": [
    {
     "data": {
      "text/html": [
       "<table border=\"1\" class=\"dataframe\">\n",
       "  <thead>\n",
       "    <tr style=\"text-align: right;\">\n",
       "      <th>text</th>\n",
       "      <th>target</th>\n",
       "    </tr>\n",
       "  </thead>\n",
       "  <tbody>\n",
       "    <tr>\n",
       "      <td>xxbos xxmaj potential xxmaj overwatch xxmaj easter xxmaj egg ? [ xxmaj this flag](https : / / imgur.com / a / xxunk ) is hung on a map in the game xxmaj overwatch . a [ close up](https : / / i.imgur.com / xxunk ) ( sorry for the poor quality , see below for cleaned up version ) shows a grid of squares that are either filled in or</td>\n",
       "      <td>codes</td>\n",
       "    </tr>\n",
       "    <tr>\n",
       "      <td>xxbos [ 5e ] xxmaj grappler xxmaj cleric 1 / xxmaj wizard x xxmaj hi,&lt;lb&gt;&lt;lb &gt; i want to build a grappler tank . xxmaj could you please review this build , giving suggestions if possible?&lt;lb&gt;&lt;lb &gt; * i 'm not optimizing for level 20 . xxmaj rather , i look at level 10 - 12 at most . xxmaj the chances of actually playing a high level character are</td>\n",
       "      <td>3d6</td>\n",
       "    </tr>\n",
       "    <tr>\n",
       "      <td>xxbos xxmaj darren xxmaj moore 's xxmaj second xxmaj great xxmaj escape - xxmaj west xxmaj xxunk xxmaj albion 2017 / 18 * * xxmaj first of all , this could all be over by xxmaj xxunk &gt; xxmaj but the xxmaj escape starts with a lazy weekday evening in xxmaj wales , where * as low - scoring of a tie as possible * needs to happen - this</td>\n",
       "      <td>soccer</td>\n",
       "    </tr>\n",
       "    <tr>\n",
       "      <td>xxbos xxup happy xxup xxunk 💦 🦃 🦃 🦃 🍴 👅 👅 xxup turkey xxup isnt xxup the xxup only xxup thing xxup getting xxup stuffed 👌 🏻 👈 🏻 👅 😩 😩 😩 xxup happy xxup xxunk 💦 🦃 🦃 🦃 🍴 👅 👅 xxup turkey xxup isnt xxup the xxup only xxup thing xxup getting xxup stuffed 👌 🏻 👈 🏻 👅 😩 😩 😩 xxup youre xxup</td>\n",
       "      <td>emojipasta</td>\n",
       "    </tr>\n",
       "    <tr>\n",
       "      <td>xxbos i ca n't tell if it 's me or ... i 'm on a weekend trip with my xxup so and their family . xxmaj the beginning of this year was rocky and i was having some hypomanic episodes . xxmaj however , i re - upped my self - monitoring and regulation mechanisms a month ago and re - entered the care of a counselor and got my</td>\n",
       "      <td>bipolar</td>\n",
       "    </tr>\n",
       "  </tbody>\n",
       "</table>"
      ],
      "text/plain": [
       "<IPython.core.display.HTML object>"
      ]
     },
     "metadata": {},
     "output_type": "display_data"
    }
   ],
   "source": [
    "data_clas.show_batch()"
   ]
  },
  {
   "cell_type": "code",
   "execution_count": 24,
   "metadata": {},
   "outputs": [
    {
     "data": {
      "text/plain": [
       "(['13ReasonsWhy',\n",
       "  '3Dprinting',\n",
       "  '3d6',\n",
       "  '4Runner',\n",
       "  '7daystodie',\n",
       "  '90DayFiance',\n",
       "  'ABDL',\n",
       "  'ABraThatFits',\n",
       "  'ACL',\n",
       "  'ACT',\n",
       "  'ADHD',\n",
       "  'APStudents',\n",
       "  'ASUS',\n",
       "  'AcademicPsychology',\n",
       "  'Accounting',\n",
       "  'AdobeIllustrator',\n",
       "  'Adoption',\n",
       "  'AirBnB',\n",
       "  'Allergies',\n",
       "  'AlphaBayMarket',\n",
       "  'AmericanHorrorStory',\n",
       "  'Anarchism',\n",
       "  'AndroidAuto',\n",
       "  'Anki',\n",
       "  'ApocalypseRising',\n",
       "  'ArcherFX',\n",
       "  'Archery',\n",
       "  'AskAnthropology',\n",
       "  'AskEconomics',\n",
       "  'AskHR',\n",
       "  'AskLiteraryStudies',\n",
       "  'AskVet',\n",
       "  'AstralProjection',\n",
       "  'Audi',\n",
       "  'AutoDetailing',\n",
       "  'AutoHotkey',\n",
       "  'AutoModerator',\n",
       "  'AvPD',\n",
       "  'Ayahuasca',\n",
       "  'BATProject',\n",
       "  'BDSMcommunity',\n",
       "  'BMW',\n",
       "  'BackYardChickens',\n",
       "  'Bass',\n",
       "  'BeardedDragons',\n",
       "  'Beatmatch',\n",
       "  'BeautyBoxes',\n",
       "  'Bedbugs',\n",
       "  'Beekeeping',\n",
       "  'Berserk',\n",
       "  'BigBrother',\n",
       "  'Blacksmith',\n",
       "  'Blink182',\n",
       "  'BoJackHorseman',\n",
       "  'BokuNoHeroAcademia',\n",
       "  'Borderlands2',\n",
       "  'Bowling',\n",
       "  'BravoRealHousewives',\n",
       "  'Brawlhalla',\n",
       "  'Breadit',\n",
       "  'CampHalfBloodRP',\n",
       "  'CanadaPublicServants',\n",
       "  'CaptainTsubasaDT',\n",
       "  'Celiac',\n",
       "  'Charity',\n",
       "  'Chefit',\n",
       "  'China',\n",
       "  'ChineseLanguage',\n",
       "  'Chromecast',\n",
       "  'Cigarettes',\n",
       "  'Cisco',\n",
       "  'Cloud9',\n",
       "  'Cloververse',\n",
       "  'CoDCompetitive',\n",
       "  'ComicBookCollabs',\n",
       "  'CompetitiveForHonor',\n",
       "  'ConanExiles',\n",
       "  'Conservative',\n",
       "  'Construction',\n",
       "  'Corsair',\n",
       "  'Costco',\n",
       "  'CreditCards',\n",
       "  'Cricket',\n",
       "  'CrohnsDisease',\n",
       "  'Cruise',\n",
       "  'CryptoKitties',\n",
       "  'Cubers',\n",
       "  'Cuckold',\n",
       "  'DBS_CardGame',\n",
       "  'DBZDokkanBattle',\n",
       "  'DDLC',\n",
       "  'DFO',\n",
       "  'DID',\n",
       "  'DanLeBatardShow',\n",
       "  'DarlingInTheFranxx',\n",
       "  'Darts',\n",
       "  'DeadBedrooms',\n",
       "  'Debate',\n",
       "  'DebateAltRight',\n",
       "  'Denmark',\n",
       "  'Dentistry',\n",
       "  'DestructiveReaders',\n",
       "  'DigimonLinkz',\n",
       "  'DimensionalJumping',\n",
       "  'DragonsDogma',\n",
       "  'Drama',\n",
       "  'Dreams',\n",
       "  'DunderMifflin',\n",
       "  'DungeonWorld',\n",
       "  'EARONS',\n",
       "  'EDM',\n",
       "  'Egypt',\n",
       "  'Electroneum',\n",
       "  'EliteOne',\n",
       "  'Eminem',\n",
       "  'EmulationOnAndroid',\n",
       "  'Endo',\n",
       "  'EnterTheGungeon',\n",
       "  'Epilepsy',\n",
       "  'Equestrian',\n",
       "  'EternalCardGame',\n",
       "  'Eve',\n",
       "  'EvolveGame',\n",
       "  'ExNoContact',\n",
       "  'FORTnITE',\n",
       "  'FargoTV',\n",
       "  'Fencing',\n",
       "  'Fibromyalgia',\n",
       "  'FidgetSpinners',\n",
       "  'FinalFantasyTCG',\n",
       "  'FinancialCareers',\n",
       "  'Firefighting',\n",
       "  'FoWtcg',\n",
       "  'FrankOcean',\n",
       "  'French',\n",
       "  'GERD',\n",
       "  'GMAT',\n",
       "  'GODZILLA',\n",
       "  'GalaxyS8',\n",
       "  'GameStop',\n",
       "  'Gamingcirclejerk',\n",
       "  'Garmin',\n",
       "  'GearsOfWar',\n",
       "  'GenderCritical',\n",
       "  'Genealogy',\n",
       "  'Geosim',\n",
       "  'German',\n",
       "  'GhostRecon',\n",
       "  'Ghosts',\n",
       "  'GiIvaSunner',\n",
       "  'Gifts',\n",
       "  'GilmoreGirls',\n",
       "  'GirlsXBattle',\n",
       "  'Gloomhaven',\n",
       "  'GodofWar',\n",
       "  'Grimdawn',\n",
       "  'GuitarAmps',\n",
       "  'Gunpla',\n",
       "  'HFY',\n",
       "  'HIMYM',\n",
       "  'HVAC',\n",
       "  'Harley',\n",
       "  'Herpes',\n",
       "  'HollowKnight',\n",
       "  'HomeDepot',\n",
       "  'Honda',\n",
       "  'HongKong',\n",
       "  'HotPeppers',\n",
       "  'HouseOfCards',\n",
       "  'Hue',\n",
       "  'HunterXHunter',\n",
       "  'Hunting',\n",
       "  'Hypothyroidism',\n",
       "  'Hyundai',\n",
       "  'IASIP',\n",
       "  'IKEA',\n",
       "  'INeedAName',\n",
       "  'IdleHeroes',\n",
       "  'Incels',\n",
       "  'InstacartShoppers',\n",
       "  'Insurance',\n",
       "  'Invisalign',\n",
       "  'Iota',\n",
       "  'Israel',\n",
       "  'JETProgramme',\n",
       "  'JUSTNOMIL',\n",
       "  'Jazz',\n",
       "  'Jokes',\n",
       "  'Journalism',\n",
       "  'Judaism',\n",
       "  'JustUnsubbed',\n",
       "  'KDRAMA',\n",
       "  'Kanye',\n",
       "  'Kappa',\n",
       "  'Kava',\n",
       "  'Kayaking',\n",
       "  'KendrickLamar',\n",
       "  'KeybaseProofs',\n",
       "  'KikRoleplay',\n",
       "  'KingdomDeath',\n",
       "  'KingkillerChronicle',\n",
       "  'Kings_Raid',\n",
       "  'KissAnime',\n",
       "  'Kombucha',\n",
       "  'Korean',\n",
       "  'LDESurvival',\n",
       "  'LV426',\n",
       "  'Landlord',\n",
       "  'LearnJapanese',\n",
       "  'Leathercraft',\n",
       "  'Lexus',\n",
       "  'Libraries',\n",
       "  'Lineage2Revolution',\n",
       "  'LineageOS',\n",
       "  'LinkinPark',\n",
       "  'Lisk',\n",
       "  'LongDistance',\n",
       "  'LoveLive',\n",
       "  'LucidDreaming',\n",
       "  'Luthier',\n",
       "  'MBA',\n",
       "  'MDMA',\n",
       "  'MMA',\n",
       "  'MPSelectMiniOwners',\n",
       "  'MSAccess',\n",
       "  'MSLGame',\n",
       "  'MTVScream',\n",
       "  'Machinists',\n",
       "  'Magento',\n",
       "  'Magic',\n",
       "  'MaladaptiveDreaming',\n",
       "  'Malazan',\n",
       "  'MandelaEffect',\n",
       "  'MarioMaker',\n",
       "  'Mattress',\n",
       "  'MechanicalKeyboards',\n",
       "  'Meditation',\n",
       "  'MemeEconomy',\n",
       "  'Metalcore',\n",
       "  'Metallica',\n",
       "  'Miscarriage',\n",
       "  'MomForAMinute',\n",
       "  'MoneroMining',\n",
       "  'Monstercat',\n",
       "  'MouseReview',\n",
       "  'MoviePassClub',\n",
       "  'MrRobot',\n",
       "  'MtvChallenge',\n",
       "  'MuayThai',\n",
       "  'MultipleSclerosis',\n",
       "  'Mustang',\n",
       "  'NASCAR',\n",
       "  'NEO',\n",
       "  'NHLHUT',\n",
       "  'NameThatSong',\n",
       "  'Nanny',\n",
       "  'Narcolepsy',\n",
       "  'Naruto',\n",
       "  'Nepal',\n",
       "  'Nerf',\n",
       "  'Nest',\n",
       "  'Netrunner',\n",
       "  'NewSkaters',\n",
       "  'Nioh',\n",
       "  'NoMansSkyTheGame',\n",
       "  'Nootropics',\n",
       "  'Norway',\n",
       "  'OCD',\n",
       "  'OOTP',\n",
       "  'OccupationalTherapy',\n",
       "  'OneNote',\n",
       "  'OnePieceTC',\n",
       "  'OnePunchMan',\n",
       "  'Outlier',\n",
       "  'Outlook',\n",
       "  'OutreachHPG',\n",
       "  'PCOS',\n",
       "  'PFSENSE',\n",
       "  'PHPhelp',\n",
       "  'PLC',\n",
       "  'Parahumans',\n",
       "  'Pauper',\n",
       "  'Petscop',\n",
       "  'Philippines',\n",
       "  'Physics',\n",
       "  'PlasticSurgery',\n",
       "  'Plumbing',\n",
       "  'PoloniexForum',\n",
       "  'Porsche',\n",
       "  'PrettyLittleLiars',\n",
       "  'Professors',\n",
       "  'ProtectAndServe',\n",
       "  'Psychic',\n",
       "  'PvZHeroes',\n",
       "  'RATS',\n",
       "  'RWBY',\n",
       "  'Rabbits',\n",
       "  'Rainmeter',\n",
       "  'Rapekink',\n",
       "  'Re_Zero',\n",
       "  'RealEstate',\n",
       "  'RedditLaqueristas',\n",
       "  'Ripple',\n",
       "  'RocketLeague',\n",
       "  'Roku',\n",
       "  'Roll20',\n",
       "  'Rowing',\n",
       "  'SCCM',\n",
       "  'SCP',\n",
       "  'SCREENPRINTING',\n",
       "  'SQL',\n",
       "  'SampleSize',\n",
       "  'Sat',\n",
       "  'Saxophonics',\n",
       "  'Scams',\n",
       "  'Schizoid',\n",
       "  'Seaofthieves',\n",
       "  'SexToys',\n",
       "  'SexWorkers',\n",
       "  'Shadowrun',\n",
       "  'Shadowverse',\n",
       "  'Sherlock',\n",
       "  'ShieldAndroidTV',\n",
       "  'ShingekiNoKyojin',\n",
       "  'Shoplifting',\n",
       "  'SiliconValleyHBO',\n",
       "  'SkincareAddiction',\n",
       "  'SleepApnea',\n",
       "  'Sleepparalysis',\n",
       "  'Sneakers',\n",
       "  'Snus',\n",
       "  'SolidWorks',\n",
       "  'SonyXperia',\n",
       "  'SpaceXLounge',\n",
       "  'Spanish',\n",
       "  'Standup',\n",
       "  'Staples',\n",
       "  'StarVStheForcesofEvil',\n",
       "  'StardustCrusaders',\n",
       "  'Stargate',\n",
       "  'StateOfDecay',\n",
       "  'SteamController',\n",
       "  'Stellar',\n",
       "  'Steroidsourcetalk',\n",
       "  'Stoicism',\n",
       "  'StopGaming',\n",
       "  'Stormlight_Archive',\n",
       "  'StrangerThings',\n",
       "  'StudentLoans',\n",
       "  'Supernatural',\n",
       "  'SwagBucks',\n",
       "  'Swimming',\n",
       "  'TOR',\n",
       "  'TREZOR',\n",
       "  'TalesFromTheFrontDesk',\n",
       "  'TalesFromThePizzaGuy',\n",
       "  'TaylorSwift',\n",
       "  'Tekken',\n",
       "  'Terraria',\n",
       "  'Testosterone',\n",
       "  'The100',\n",
       "  'TheDarkTower',\n",
       "  'TheExpanse',\n",
       "  'TheHandmaidsTale',\n",
       "  'TheLastAirbender',\n",
       "  'TheLeftovers',\n",
       "  'TheOA',\n",
       "  'TheSimpsons',\n",
       "  'TheWeeknd',\n",
       "  'TheWire',\n",
       "  'TheXanaxCartel',\n",
       "  'The_Division',\n",
       "  'Throwers',\n",
       "  'Tinder',\n",
       "  'TokyoGhoul',\n",
       "  'TowerofGod',\n",
       "  'TownofSalemgame',\n",
       "  'TransDIY',\n",
       "  'Tronix',\n",
       "  'Truckers',\n",
       "  'Trucks',\n",
       "  'TryingForABaby',\n",
       "  'Tulpas',\n",
       "  'Turkey',\n",
       "  'UFOs',\n",
       "  'Undertale',\n",
       "  'UnresolvedMysteries',\n",
       "  'Vermintide',\n",
       "  'Veterans',\n",
       "  'VietNam',\n",
       "  'VisitingIceland',\n",
       "  'VoiceActing',\n",
       "  'Volkswagen',\n",
       "  'Volvo',\n",
       "  'WWE',\n",
       "  'WWEChampions',\n",
       "  'Warframe',\n",
       "  'WarhammerCompetitive',\n",
       "  'Warmachine',\n",
       "  'Warthunder',\n",
       "  'WayfarersPub',\n",
       "  'Welding',\n",
       "  'WhiteWolfRPG',\n",
       "  'Wizard101',\n",
       "  'WoT',\n",
       "  'Wordpress',\n",
       "  'WormFanfic',\n",
       "  'WouldYouRather',\n",
       "  'Wrangler',\n",
       "  'WritingPrompts',\n",
       "  'Yugioh101',\n",
       "  'ZeroEscape',\n",
       "  'ZeroWaste',\n",
       "  'ableton',\n",
       "  'abortion',\n",
       "  'absolver',\n",
       "  'acting',\n",
       "  'actuallesbians',\n",
       "  'actuary',\n",
       "  'adderall',\n",
       "  'adventuretime',\n",
       "  'afinil',\n",
       "  'ageofsigmar',\n",
       "  'airsoft',\n",
       "  'amateur_boxing',\n",
       "  'amateurradio',\n",
       "  'amazon',\n",
       "  'amazonecho',\n",
       "  'amiibo',\n",
       "  'amiugly',\n",
       "  'androiddev',\n",
       "  'animation',\n",
       "  'antiMLM',\n",
       "  'antidepressants',\n",
       "  'appletv',\n",
       "  'araragi',\n",
       "  'architecture',\n",
       "  'arcticmonkeys',\n",
       "  'arduino',\n",
       "  'arenaofvalor',\n",
       "  'arrow',\n",
       "  'asexuality',\n",
       "  'askMRP',\n",
       "  'askphilosophy',\n",
       "  'asktrp',\n",
       "  'asmr',\n",
       "  'astrology',\n",
       "  'atheism',\n",
       "  'audible',\n",
       "  'autism',\n",
       "  'awardtravel',\n",
       "  'aznidentity',\n",
       "  'backpacking',\n",
       "  'badroommates',\n",
       "  'baduk',\n",
       "  'baldursgate',\n",
       "  'bangtan',\n",
       "  'barstoolsports',\n",
       "  'bartenders',\n",
       "  'baseball',\n",
       "  'bash',\n",
       "  'battlecats',\n",
       "  'battlefield_one',\n",
       "  'beards',\n",
       "  'beatles',\n",
       "  'beer',\n",
       "  'belgium',\n",
       "  'benzodiazepines',\n",
       "  'bettafish',\n",
       "  'bigboobproblems',\n",
       "  'bigdickproblems',\n",
       "  'bigseo',\n",
       "  'billiards',\n",
       "  'binance',\n",
       "  'bindingofisaac',\n",
       "  'bioinformatics',\n",
       "  'biology',\n",
       "  'bipolar',\n",
       "  'birthcontrol',\n",
       "  'bisexual',\n",
       "  'bjj',\n",
       "  'blackmirror',\n",
       "  'bladeandsoul',\n",
       "  'bladerunner',\n",
       "  'bleach',\n",
       "  'blender',\n",
       "  'bloodbowl',\n",
       "  'boostedboards',\n",
       "  'bootroom',\n",
       "  'bourbon',\n",
       "  'boxoffice',\n",
       "  'brandnew',\n",
       "  'breakingbad',\n",
       "  'breastfeeding',\n",
       "  'brockhampton',\n",
       "  'btc',\n",
       "  'buffy',\n",
       "  'bulletjournal',\n",
       "  'burstcoin',\n",
       "  'cade',\n",
       "  'callofcthulhu',\n",
       "  'camping',\n",
       "  'canada',\n",
       "  'cancer',\n",
       "  'cardfightvanguard',\n",
       "  'cardistry',\n",
       "  'cassetteculture',\n",
       "  'cats',\n",
       "  'cemu',\n",
       "  'cfs',\n",
       "  'characterdrawing',\n",
       "  'chastity',\n",
       "  'chemistry',\n",
       "  'chess',\n",
       "  'childfree',\n",
       "  'churning',\n",
       "  'cigars',\n",
       "  'cinematography',\n",
       "  'civ',\n",
       "  'civilengineering',\n",
       "  'classicalmusic',\n",
       "  'climbing',\n",
       "  'clothdiaps',\n",
       "  'cocaine',\n",
       "  'cocktails',\n",
       "  'codes',\n",
       "  'coins',\n",
       "  'collapse',\n",
       "  'communism101',\n",
       "  'consulting',\n",
       "  'cosplay',\n",
       "  'criterion',\n",
       "  'crossdressing',\n",
       "  'crossfit',\n",
       "  'cscareerquestions',\n",
       "  'csharp',\n",
       "  'csshelp',\n",
       "  'cycling',\n",
       "  'danganronpa',\n",
       "  'dashpay',\n",
       "  'datarecovery',\n",
       "  'datascience',\n",
       "  'dbz',\n",
       "  'deaf',\n",
       "  'deathgrips',\n",
       "  'deathnote',\n",
       "  'declutter',\n",
       "  'devops',\n",
       "  'diabetes',\n",
       "  'digitalnomad',\n",
       "  'discgolf',\n",
       "  'discordapp',\n",
       "  'django',\n",
       "  'dji',\n",
       "  'dndnext',\n",
       "  'docker',\n",
       "  'doctorwho',\n",
       "  'dogecoin',\n",
       "  'dontstarve',\n",
       "  'dotnet',\n",
       "  'dpdr',\n",
       "  'drawing',\n",
       "  'dresdenfiles',\n",
       "  'driving',\n",
       "  'dropship',\n",
       "  'drumcorps',\n",
       "  'drums',\n",
       "  'duelyst',\n",
       "  'dvdcollection',\n",
       "  'dwarffortress',\n",
       "  'dxm',\n",
       "  'dyinglight',\n",
       "  'ecommerce',\n",
       "  'eczema',\n",
       "  'ehlersdanlos',\n",
       "  'electricians',\n",
       "  'emetophobia',\n",
       "  'emojipasta',\n",
       "  'eos',\n",
       "  'eroticauthors',\n",
       "  'ethtrader',\n",
       "  'evangelion',\n",
       "  'everquest',\n",
       "  'excel',\n",
       "  'factorio',\n",
       "  'fairytail',\n",
       "  'fakeid',\n",
       "  'fatestaynight',\n",
       "  'fatpeoplestories',\n",
       "  'ferrets',\n",
       "  'fightsticks',\n",
       "  'findareddit',\n",
       "  'firefox',\n",
       "  'fitbit',\n",
       "  'fivenightsatfreddys',\n",
       "  'flashlight',\n",
       "  'flatearth',\n",
       "  'fleshlight',\n",
       "  'flexibility',\n",
       "  'flyfishing',\n",
       "  'flying',\n",
       "  'foreignservice',\n",
       "  'foreskin_restoration',\n",
       "  'formula1',\n",
       "  'fountainpens',\n",
       "  'foxholegame',\n",
       "  'fragrance',\n",
       "  'france',\n",
       "  'freemasonry',\n",
       "  'freenas',\n",
       "  'ftm',\n",
       "  'funkopop',\n",
       "  'furry',\n",
       "  'futarp',\n",
       "  'gameofthrones',\n",
       "  'garlicoin',\n",
       "  'gaymers',\n",
       "  'genderqueer',\n",
       "  'geologycareers',\n",
       "  'germany',\n",
       "  'gigantic',\n",
       "  'gis',\n",
       "  'git',\n",
       "  'golang',\n",
       "  'golf',\n",
       "  'gopro',\n",
       "  'gorillaz',\n",
       "  'gradadmissions',\n",
       "  'grammar',\n",
       "  'graphic_design',\n",
       "  'gravityfalls',\n",
       "  'greysanatomy',\n",
       "  'gridcoin',\n",
       "  'gtaonline',\n",
       "  'guineapigs',\n",
       "  'guitarpedals',\n",
       "  'guitars',\n",
       "  'hacking',\n",
       "  'halo',\n",
       "  'hamiltonmusical',\n",
       "  'hamsters',\n",
       "  'hapas',\n",
       "  'harrypotter',\n",
       "  'haskell',\n",
       "  'headphones',\n",
       "  'hiking',\n",
       "  'hinduism',\n",
       "  'hiphopheads',\n",
       "  'history',\n",
       "  'hitmobile',\n",
       "  'hockeyplayers',\n",
       "  'homeassistant',\n",
       "  'homedefense',\n",
       "  'homegym',\n",
       "  'homelab',\n",
       "  'homeless',\n",
       "  'homestead',\n",
       "  'hometheater',\n",
       "  'hookah',\n",
       "  'horror',\n",
       "  'howyoudoin',\n",
       "  'ibs',\n",
       "  'ifttt',\n",
       "  'immigration',\n",
       "  'incest',\n",
       "  'indonesia',\n",
       "  'infertility',\n",
       "  'insomnia',\n",
       "  'instantpot',\n",
       "  'intel',\n",
       "  'interviews',\n",
       "  'islam',\n",
       "  'italy',\n",
       "  'japanlife',\n",
       "  'javahelp',\n",
       "  'jewelry',\n",
       "  'judo',\n",
       "  'juul',\n",
       "  'kickstarter',\n",
       "  'kindle',\n",
       "  'kingdomcome',\n",
       "  'knifeclub',\n",
       "  'kodi',\n",
       "  'korea',\n",
       "  'kpop',\n",
       "  'kucoin',\n",
       "  'l5r',\n",
       "  'lacrosse',\n",
       "  'lasercutting',\n",
       "  'lasik',\n",
       "  'latin',\n",
       "  'latterdaysaints',\n",
       "  'lawofattraction',\n",
       "  'lawschooladmissions',\n",
       "  'learndota2',\n",
       "  'learnmachinelearning',\n",
       "  'learnpython',\n",
       "  'lebanon',\n",
       "  'legaladviceofftopic',\n",
       "  'lego',\n",
       "  'leopardgeckos',\n",
       "  'lifeisstrange',\n",
       "  'lightingdesign',\n",
       "  'lightsabers',\n",
       "  'linguistics',\n",
       "  'linuxquestions',\n",
       "  'litecoin',\n",
       "  'littlespace',\n",
       "  'livesound',\n",
       "  'lockpicking',\n",
       "  'logorequests',\n",
       "  'lonely',\n",
       "  'lost',\n",
       "  'lotr',\n",
       "  'lucifer',\n",
       "  'madmen',\n",
       "  'malaysia',\n",
       "  'malehairadvice',\n",
       "  'marketing',\n",
       "  'massage',\n",
       "  'math',\n",
       "  'matlab',\n",
       "  'mazda3',\n",
       "  'mead',\n",
       "  'mercedes_benz',\n",
       "  'migraine',\n",
       "  'minecraftsuggestions',\n",
       "  'minimalism',\n",
       "  'misophonia',\n",
       "  'modelmakers',\n",
       "  'modeltrains',\n",
       "  'mopeio',\n",
       "  'mountandblade',\n",
       "  'msp',\n",
       "  'mturk',\n",
       "  'muacjdiscussion',\n",
       "  'musictheory',\n",
       "  'mylittlepony',\n",
       "  'namenerds',\n",
       "  'nanocurrency',\n",
       "  'needforspeed',\n",
       "  'neoliberal',\n",
       "  'neopets',\n",
       "  'netneutrality',\n",
       "  'networking',\n",
       "  'newtothenavy',\n",
       "  'newzealand',\n",
       "  'nihilism',\n",
       "  'nin',\n",
       "  'nosurf',\n",
       "  'notebooks',\n",
       "  'nvidia',\n",
       "  'oaklandraiders',\n",
       "  'obs',\n",
       "  'occult',\n",
       "  'oculus',\n",
       "  'oculusnsfw',\n",
       "  'opiates',\n",
       "  'optometry',\n",
       "  'orangeisthenewblack',\n",
       "  'origin',\n",
       "  'osugame',\n",
       "  'osx',\n",
       "  'overlord',\n",
       "  'paintball',\n",
       "  'pakistan',\n",
       "  'parentsofmultiples',\n",
       "  'parrots',\n",
       "  'paypal',\n",
       "  'peacecorps',\n",
       "  'pebble',\n",
       "  'personalfinance',\n",
       "  'pesmobile',\n",
       "  'pettyrevenge',\n",
       "  'pharmacy',\n",
       "  'phenibut',\n",
       "  'photography',\n",
       "  'photoshop',\n",
       "  'physicaltherapy',\n",
       "  'piano',\n",
       "  'piercing',\n",
       "  'pihole',\n",
       "  'pinkfloyd',\n",
       "  'pkmntcg',\n",
       "  'place',\n",
       "  'poetry_critics',\n",
       "  'poker',\n",
       "  'poland',\n",
       "  'polyamory',\n",
       "  'popheads',\n",
       "  'postmates',\n",
       "  'powerrangers',\n",
       "  'pregnant',\n",
       "  'premiere',\n",
       "  'prephysicianassistant',\n",
       "  'preppers',\n",
       "  'privacy',\n",
       "  'productivity',\n",
       "  'projecteternity',\n",
       "  'projectmanagement',\n",
       "  'psychotherapy',\n",
       "  'ptsd',\n",
       "  'puppy101',\n",
       "  'quittingkratom',\n",
       "  'quotes',\n",
       "  'radarr',\n",
       "  'radiohead',\n",
       "  'rails',\n",
       "  'raisedbyborderlines',\n",
       "  'raisedbynarcissists',\n",
       "  'rapecounseling',\n",
       "  'raspberry_pi',\n",
       "  'rawdenim',\n",
       "  'rccars',\n",
       "  'reactjs',\n",
       "  'readyplayerone',\n",
       "  'reddCoin',\n",
       "  'reddeadredemption',\n",
       "  'redditdev',\n",
       "  'redditsync',\n",
       "  'redesign',\n",
       "  'reloading',\n",
       "  'residentevil',\n",
       "  'resumes',\n",
       "  'rheumatoid',\n",
       "  'rickandmorty',\n",
       "  'riddles',\n",
       "  'ringdoorbell',\n",
       "  'riverdale',\n",
       "  'roadtrip',\n",
       "  'robotics',\n",
       "  'rollerblading',\n",
       "  'rollercoasters',\n",
       "  'rstats',\n",
       "  'rugbyunion',\n",
       "  'running',\n",
       "  'rupaulsdragrace',\n",
       "  'russia',\n",
       "  'russian',\n",
       "  'rust',\n",
       "  'saab',\n",
       "  'sailing',\n",
       "  'sales',\n",
       "  'salesforce',\n",
       "  'samuraijack',\n",
       "  'savageworlds',\n",
       "  'schizophrenia',\n",
       "  'scooters',\n",
       "  'scuba',\n",
       "  'secretsanta',\n",
       "  'securityguards',\n",
       "  'seduction',\n",
       "  'seedboxes',\n",
       "  'selfhosted',\n",
       "  'sewing',\n",
       "  'shameless',\n",
       "  'sharditkeepit',\n",
       "  'sharepoint',\n",
       "  'shield',\n",
       "  'short',\n",
       "  'shortscarystories',\n",
       "  'shrimptank',\n",
       "  'shrooms',\n",
       "  'siacoin',\n",
       "  'singing',\n",
       "  'sissyhypno',\n",
       "  'skiing',\n",
       "  'sleeptrain',\n",
       "  'slowcooking',\n",
       "  'slp',\n",
       "  'smoking',\n",
       "  'snakes',\n",
       "  'snapchat',\n",
       "  'snowboarding',\n",
       "  'soccer',\n",
       "  'socialism',\n",
       "  'socialskills',\n",
       "  'socialwork',\n",
       "  'sociopath',\n",
       "  'solar',\n",
       "  'sonarr',\n",
       "  'sousvide',\n",
       "  'southafrica',\n",
       "  'southpark',\n",
       "  'space',\n",
       "  'spain',\n",
       "  'spartanrace',\n",
       "  'speedrun',\n",
       "  'spikes',\n",
       "  'splatoon',\n",
       "  'spotify',\n",
       "  'starbucks',\n",
       "  'starcraft',\n",
       "  'starfinder_rpg',\n",
       "  'startrek',\n",
       "  'statistics',\n",
       "  'steinsgate',\n",
       "  'stepparents',\n",
       "  'stevenuniverse',\n",
       "  'stopdrinking',\n",
       "  'stopsmoking',\n",
       "  'subaru',\n",
       "  'subnautica',\n",
       "  'succulents',\n",
       "  'sugarlifestyleforum',\n",
       "  'suggestmeabook',\n",
       "  'summonerswar',\n",
       "  'surfing',\n",
       "  'survivinginfidelity',\n",
       "  'survivor',\n",
       "  'sweden',\n",
       "  'swift',\n",
       "  'swoleacceptance',\n",
       "  'swordartonline',\n",
       "  'swrpg',\n",
       "  'synology',\n",
       "  'synthesizers',\n",
       "  'tableau',\n",
       "  'tabletopgamedesign',\n",
       "  'tacobell',\n",
       "  'talesfromtechsupport',\n",
       "  'tall',\n",
       "  'tarantulas',\n",
       "  'tarot',\n",
       "  'tasker',\n",
       "  'tattoo',\n",
       "  'tax',\n",
       "  'tdi',\n",
       "  'tea',\n",
       "  'teaching',\n",
       "  'techsupport',\n",
       "  'teenmom',\n",
       "  'telescopes',\n",
       "  'tennis',\n",
       "  'teslamotors',\n",
       "  'teslore',\n",
       "  'tezos',\n",
       "  'thebachelor',\n",
       "  'thelastofus',\n",
       "  'thesims',\n",
       "  'thesopranos',\n",
       "  'thewalkingdead',\n",
       "  'theydidthemath',\n",
       "  'thinkpad',\n",
       "  'tinnitus',\n",
       "  'tipofmypenis',\n",
       "  'titanfall',\n",
       "  'transformers',\n",
       "  'translator',\n",
       "  'triathlon',\n",
       "  'trumpet',\n",
       "  'turning',\n",
       "  'twentyonepilots',\n",
       "  'twinpeaks',\n",
       "  'uBlockOrigin',\n",
       "  'uberdrivers',\n",
       "  'ukulele',\n",
       "  'ultimate',\n",
       "  'ultrawidemasterrace',\n",
       "  'unRAID',\n",
       "  'unitedkingdom',\n",
       "  'unrealengine',\n",
       "  'uscg',\n",
       "  'vaginismus',\n",
       "  'vainglorygame',\n",
       "  'valkyrie_en',\n",
       "  'vandwellers',\n",
       "  'vegetarian',\n",
       "  'vergecurrency',\n",
       "  'verizon',\n",
       "  'vertcoin',\n",
       "  'vexillology',\n",
       "  'vikingstv',\n",
       "  'vim',\n",
       "  'vinyl',\n",
       "  'violinist',\n",
       "  'vmware',\n",
       "  'volleyball',\n",
       "  'volt',\n",
       "  'wacom',\n",
       "  'walkingwarrobots',\n",
       "  'walmart',\n",
       "  'warriors',\n",
       "  'watch_dogs',\n",
       "  'watercooling',\n",
       "  'web_design',\n",
       "  'weddingplanning',\n",
       "  'weed',\n",
       "  'weedstocks',\n",
       "  'weezer',\n",
       "  'westworld',\n",
       "  'whatsthatbook',\n",
       "  'whatstheword',\n",
       "  'whatsthisplant',\n",
       "  'whatsthisworth',\n",
       "  'wicked_edge',\n",
       "  'widowers',\n",
       "  'wildhearthstone',\n",
       "  'windows',\n",
       "  'windowsphone',\n",
       "  ...],\n",
       " 1013,\n",
       " 810399,\n",
       " 202601)"
      ]
     },
     "execution_count": 24,
     "metadata": {},
     "output_type": "execute_result"
    }
   ],
   "source": [
    "data_clas.classes, data_clas.c, len(data_clas.train_ds), len(data_clas.valid_ds)"
   ]
  },
  {
   "cell_type": "markdown",
   "metadata": {},
   "source": [
    "Create an AWD LSTM model to classify selfposts and load the saved encoder created above"
   ]
  },
  {
   "cell_type": "code",
   "execution_count": 13,
   "metadata": {},
   "outputs": [
    {
     "data": {
      "text/plain": [
       "RNNLearner(data=TextClasDataBunch;\n",
       "\n",
       "Train: LabelList (810399 items)\n",
       "x: TextList\n",
       "xxbos xxmaj coming xxmaj out xxmaj advice xxmaj okay , so i am 19 years old and i have been in a relationship with a man ( i 'm a woman ) for over 5 years now . xxmaj he knows i 'm bisexual and i 'm at the point where i 'm ready to come out to everyone else . i want to come out to my immediate family first , but i 'm not sure how they 're going to take it . xxmaj what kind of advice would you give on doing this ? xxmaj i.e things to make sure to touch on , how to start the conversation , what to do if the conversation goes south , etc .,xxbos xxmaj finally xxmaj found my first gold weapon xxmaj it was ... okay.<lb><lb > xxmaj after couple of hours of tedious farming near the auto parts shop on the xxunk where you jump to the nearby tower and check what kind of weapon dropped there and after skipping couple of gold shotguns i have no use for i finally got it . xxmaj loco baseball bat . xxmaj and after 3 king upgrades i would say it 's good , but feels like it 's on par with orange katana and now i think i should 've farmed for the gold sword or something.<lb><lb > xxmaj any more gold melee weapon farming spots i should look at ? i am playing strictly single player on xxup pc . xxmaj what would be the best gold melee xxunk > xxmaj also , while we at it , best way to farm xxmaj king upgrades ?,xxbos xxmaj how do i configure django urls to make it so if it displays 404 , it xxunk to xxmaj reactjs xxmaj the title is terrible - sorry about that.<lb><lb > xxmaj so say i have a website say xxunk / . i 've configured my xxunk so that whenever the person enters xxunk it redirects them to the index.html ( where it displays the reactjs application ) . i 've set reactjs with react - router and made it so when you click a button on the index page it goes to xxunk / # / webpage . < lb><lb > xxmaj thing is ... i do n't want that . i want it to go to xxunk / webpage . i want react to handle this however and not django . xxup all of this url thing should be in the same application of index.html . xxmaj how do i configure django xxunk so that if i enter xxunk / webpage it goes to the index of xxunk reactjs 's application and then it checks to see if the route has webpage . xxmaj otherwise say if i went to xxunk / xxunk ( which the react route does n't have ) it should display a xxunk > xxmaj basically what i want to xxunk > xxmaj user goes to website.com / name < lb > > if website.com / name exists in django - it returns a html doc < lb > > if not then it redirects to website.com / where reactjs will handle the url and see if it matches any of the routers < lb > ... > if it does , then it displays that route < lb > ... > if not then it displays a django 404 or a custom 404 page.<lb><lb > xxmaj how do i configure django and reactjs to do this ?,xxbos eli5 xxmaj xxunk / xxmaj xxunk i have limited knowledge on the topic but i have heard that with xxmaj xxunk , mass xxunk and loss of jobs were some of what came with his economic policy . xxmaj however i 'm interested to know the background behind its implementations , what happened as a result / the effects it had and how its still relevant today .,xxbos xxmaj how come birthday llamas are n't a thing ? xxmaj not sure if people have talked about this before but for a game dead set on how loot is obtained i would have thought that birthday llamas would have been a thing given the style the loot is provided.<lb><lb > xxmaj or is it a dumb idea to give players a birthday pinata on their birthday ?\n",
       "y: CategoryList\n",
       "bisexual,dyinglight,django,newzealand,FORTnITE\n",
       "Path: /home/jupyter/tutorials/fastai/course-v3/nbs/dl1/data_rspct;\n",
       "\n",
       "Valid: LabelList (202601 items)\n",
       "x: TextList\n",
       "xxbos xxmaj question for people who have canceled their membership . i 'm thinking of cancelling my membership but i heard for a while that xxmaj moviepass is notorious for still charging you after you cancel . xxmaj for those of you who have done so recently , is it better now or am i going to have to go through a bunch of hoops to make sure i do n't get charged anymore ?,xxbos a theory about a fifth soul mode xxmaj so we all know about the four soul modes , each one connected to one of the six souls , the final two souls being the orange or blue objects which hurt you if you are moving or hurt you when you 're not moving , but what if the white objects that hurt you no matter what are connected with the monster 's souls ? xxmaj maybe in the white soul mode , in each attack session you receive a set amount of damage , like how monsters receive damage when you xxup fight . xxmaj it would make sense given how white objects deal a set amount of damage no matter what , and since all monsters have white souls , they would all be in this soul mode .,xxbos xxmaj bot xxmaj request : xxmaj that assigns roles based on the game being played - xxmaj dynamically ( xxmaj found one but it 's not perfect ) i am looking for a bot that can assign roles to people who are playing a specific game . xxmaj and then assign that role when they are not playing that game . i recently found \" xxunk \" bot which does do this , but the settings for it are very limited . xxmaj when i added the bot to my server it instantly created about 60 roles and assigned them to the specific people in my server ( around 800 users ) , without letting me set it up first . i want to be able to only assign roles to people for xxup specific games , and not every game , yet this bot does not allow this functionality . xxmaj does anyone know any other bots that do this with better backend support ?,xxbos xxmaj seal xxmaj dragon deck xxmaj profile xxmaj alrighty so this'll be my edited xxmaj seal xxmaj dragon deck with more of a control focus and heavy xxunk mechanic . xxmaj so without further ado , lets begin . < lb > xxmaj grade xxunk xxmaj seal xxmaj dragon , xxmaj xxunk ( xxmaj starting xxmaj xxunk xxmaj seal xxmaj dragon , xxmaj xxunk xxmaj xxunk ( xxmaj xxunk xxmaj xxunk xxmaj seal xxmaj dragon , xxmaj xxunk ( xxmaj vanilla xxmaj xxunk xxmaj seal xxmaj dragon , xxmaj xxunk ( xxmaj soul xxunk xxmaj xxunk xxmaj seal xxmaj dragon , xxmaj xxunk ( xxmaj heal xxmaj xxunk > xxmaj grade xxunk xxmaj seal xxmaj dragon , xxmaj xxunk ( xxmaj perfect xxmaj xxunk xxmaj energy xxmaj flame , xxmaj xxunk < lb>1x xxmaj dragon xxmaj knight , xxmaj xxunk < lb>4x xxmaj seal xxmaj dragon , xxmaj xxunk < lb>2x xxmaj lizard xxmaj soldier , xxmaj xxunk < lb><lb > xxmaj grade xxunk xxmaj seal xxmaj dragon , xxmaj xxunk < lb>2x xxmaj seal xxmaj dragon , xxmaj xxunk < lb>1x xxmaj berserk xxmaj lord xxmaj dragon < lb>2x xxmaj seal xxmaj dragon , xxmaj xxunk < lb>2x xxmaj xxunk xxmaj dragon < lb><lb > xxmaj grade xxunk xxmaj seal xxmaj dragon , xxmaj xxunk < lb>4x xxmaj hellfire xxmaj seal xxmaj dragon , xxmaj xxunk < lb>2x xxmaj hellfire xxmaj seal xxmaj dragon , xxmaj blockade xxmaj inferno < lb > xxmaj grade xxunk xxmaj xxunk xxmaj seal xxmaj dragon , xxmaj xxunk < lb>3x xxmaj supreme xxmaj heavenly xxmaj emperor xxmaj dragon , xxmaj dragonic xxmaj blademaster \" xxmaj xxunk xxmaj divine xxmaj dragon xxmaj knight , xxmaj mustafa < lb>1x xxmaj supreme xxmaj heavenly xxmaj emperor xxmaj dragon , xxmaj vortex xxmaj desire < lb>1x xxmaj dark xxmaj element , xxmaj dizmel < lb>1x xxmaj flame xxmaj emperor xxmaj dragon xxmaj king , xxmaj xxunk xxmaj orb xxmaj dragon < lb>3x xxmaj flame xxmaj wing xxmaj steel xxmaj beast , xxmaj denial xxmaj griffin < lb><lb > xxmaj alright so a brief rundown of my decks strategy . xxmaj as of right now seal dragon has this awesome \" you ca n't intercept \" strategy , but in practice it lacks focus . xxmaj this deck build is an attempt to make it a more control the board game with hand - traps and massive xxunk engine . xxmaj normally i would n't even think of running xxunk in a deck due to the extremely heavy xxunk , but xxmaj seal xxmaj dragon have something amazing codename \" xxmaj xxunk \" . xxmaj this dragon allows you to xxunk during your opponents turn . xxmaj it also does n't care if you retire the grade 2 's afterwards since its unit buff is n't xxup cont . i also found that xxmaj xxunk is cool and all , but xxmaj xxunk is much more of a plus for you since your opponent either xxunk their hand or gives you another card in hand . xxmaj xxunk gets the early game xxunk , but for me when it got to late game and i had xxmaj xxunk in hand . xxmaj problem is that when its late game my opponent usually has only his front xxunk . xxmaj then its a situation where i 'm put under pressure . xxmaj and with the additional soul from the 3k draw triggers i can spam xxmaj xxunk like no tomorrow . xxmaj also regarding my stride deck . xxmaj everything that i use have bonuses depending on how many i have flipped which leads to good transitions . i will be taking this deck to my locals in half a day so i 'll post results matchups and changes to the deck . < lb><lb > xxmaj the xxunk mainly be based on consistency xxunk : xxmaj if i can ride to xxmaj grade 3 . < lb>2 : xxmaj if my damage zone and soul is usable by xxmaj xxunk and xxmaj xxunk at all opportunities . < lb>3 : xxmaj if i am able to finish my opponent even without xxmaj xxunk : xxmaj what goes on with my xxunk and xxunk . ( xxmaj do n't want to go overboard either direction , cc less important . ) . < lb > xxmaj thanks for any constructive criticisms . xxmaj remember though that this is a * xxmaj rough * deck build , so edits will probably be made .,xxbos xxmaj another thing i just noticed in xxmaj half xxmaj blood xxmaj prince . xxmaj in xxmaj chapter three when xxmaj dumbledore arrives at the xxmaj xxunk 's xxunk xxmaj dumbledore , \" said xxmaj dumbledore , when xxmaj uncle xxmaj vernon failed to effect an introduction . \" xxmaj we have corresponded , of course . \" xxmaj harry thought this was an odd way of reminding xxmaj aunt xxmaj xxunk that he had once sent her an exploding letter , but xxmaj aunt xxmaj xxunk did not challenge the term.<lb><lb > xxmaj of course they 're talking about the xxmaj xxunk from xxup ootp but xxmaj dumbledore could also be talking about the letter she sent him as a kid !\n",
       "y: CategoryList\n",
       "MoviePassClub,Undertale,discordapp,cardfightvanguard,harrypotter\n",
       "Path: /home/jupyter/tutorials/fastai/course-v3/nbs/dl1/data_rspct;\n",
       "\n",
       "Test: None, model=SequentialRNN(\n",
       "  (0): MultiBatchEncoder(\n",
       "    (module): AWD_LSTM(\n",
       "      (encoder): Embedding(60000, 400, padding_idx=1)\n",
       "      (encoder_dp): EmbeddingDropout(\n",
       "        (emb): Embedding(60000, 400, padding_idx=1)\n",
       "      )\n",
       "      (rnns): ModuleList(\n",
       "        (0): WeightDropout(\n",
       "          (module): LSTM(400, 1152, batch_first=True)\n",
       "        )\n",
       "        (1): WeightDropout(\n",
       "          (module): LSTM(1152, 1152, batch_first=True)\n",
       "        )\n",
       "        (2): WeightDropout(\n",
       "          (module): LSTM(1152, 400, batch_first=True)\n",
       "        )\n",
       "      )\n",
       "      (input_dp): RNNDropout()\n",
       "      (hidden_dps): ModuleList(\n",
       "        (0): RNNDropout()\n",
       "        (1): RNNDropout()\n",
       "        (2): RNNDropout()\n",
       "      )\n",
       "    )\n",
       "  )\n",
       "  (1): PoolingLinearClassifier(\n",
       "    (layers): Sequential(\n",
       "      (0): BatchNorm1d(1200, eps=1e-05, momentum=0.1, affine=True, track_running_stats=True)\n",
       "      (1): Dropout(p=0.2, inplace=False)\n",
       "      (2): Linear(in_features=1200, out_features=50, bias=True)\n",
       "      (3): ReLU(inplace=True)\n",
       "      (4): BatchNorm1d(50, eps=1e-05, momentum=0.1, affine=True, track_running_stats=True)\n",
       "      (5): Dropout(p=0.1, inplace=False)\n",
       "      (6): Linear(in_features=50, out_features=1013, bias=True)\n",
       "    )\n",
       "  )\n",
       "), opt_func=functools.partial(<class 'torch.optim.adam.Adam'>, betas=(0.9, 0.99)), loss_func=FlattenedLoss of CrossEntropyLoss(), metrics=[<function accuracy at 0x7f32cd7ce680>], true_wd=True, bn_wd=True, wd=0.01, train_bn=True, path=PosixPath('/home/jupyter/tutorials/fastai/course-v3/nbs/dl1/data_rspct'), model_dir='models', callback_fns=[functools.partial(<class 'fastai.basic_train.Recorder'>, add_time=True, silent=False)], callbacks=[RNNTrainer\n",
       "learn: ...\n",
       "alpha: 2.0\n",
       "beta: 1.0], layer_groups=[Sequential(\n",
       "  (0): Embedding(60000, 400, padding_idx=1)\n",
       "  (1): EmbeddingDropout(\n",
       "    (emb): Embedding(60000, 400, padding_idx=1)\n",
       "  )\n",
       "), Sequential(\n",
       "  (0): WeightDropout(\n",
       "    (module): LSTM(400, 1152, batch_first=True)\n",
       "  )\n",
       "  (1): RNNDropout()\n",
       "), Sequential(\n",
       "  (0): WeightDropout(\n",
       "    (module): LSTM(1152, 1152, batch_first=True)\n",
       "  )\n",
       "  (1): RNNDropout()\n",
       "), Sequential(\n",
       "  (0): WeightDropout(\n",
       "    (module): LSTM(1152, 400, batch_first=True)\n",
       "  )\n",
       "  (1): RNNDropout()\n",
       "), Sequential(\n",
       "  (0): PoolingLinearClassifier(\n",
       "    (layers): Sequential(\n",
       "      (0): BatchNorm1d(1200, eps=1e-05, momentum=0.1, affine=True, track_running_stats=True)\n",
       "      (1): Dropout(p=0.2, inplace=False)\n",
       "      (2): Linear(in_features=1200, out_features=50, bias=True)\n",
       "      (3): ReLU(inplace=True)\n",
       "      (4): BatchNorm1d(50, eps=1e-05, momentum=0.1, affine=True, track_running_stats=True)\n",
       "      (5): Dropout(p=0.1, inplace=False)\n",
       "      (6): Linear(in_features=50, out_features=1013, bias=True)\n",
       "    )\n",
       "  )\n",
       ")], add_time=True, silent=False)"
      ]
     },
     "execution_count": 13,
     "metadata": {},
     "output_type": "execute_result"
    }
   ],
   "source": [
    "learn = text_classifier_learner(data_clas, AWD_LSTM, drop_mult=0.5)\n",
    "learn.load_encoder('fine_tuned_enc')"
   ]
  },
  {
   "cell_type": "code",
   "execution_count": 8,
   "metadata": {},
   "outputs": [
    {
     "data": {
      "text/html": [],
      "text/plain": [
       "<IPython.core.display.HTML object>"
      ]
     },
     "metadata": {},
     "output_type": "display_data"
    },
    {
     "name": "stdout",
     "output_type": "stream",
     "text": [
      "LR Finder is complete, type {learner_name}.recorder.plot() to see the graph.\n"
     ]
    }
   ],
   "source": [
    "learn.lr_find()"
   ]
  },
  {
   "cell_type": "code",
   "execution_count": 9,
   "metadata": {},
   "outputs": [
    {
     "data": {
      "image/png": "[encoded data removed]",
      "text/plain": [
       "<Figure size 432x288 with 1 Axes>"
      ]
     },
     "metadata": {
      "needs_background": "light"
     },
     "output_type": "display_data"
    }
   ],
   "source": [
    "learn.recorder.plot()"
   ]
  },
  {
   "cell_type": "code",
   "execution_count": 28,
   "metadata": {},
   "outputs": [
    {
     "data": {
      "text/html": [
       "<table border=\"1\" class=\"dataframe\">\n",
       "  <thead>\n",
       "    <tr style=\"text-align: left;\">\n",
       "      <th>epoch</th>\n",
       "      <th>train_loss</th>\n",
       "      <th>valid_loss</th>\n",
       "      <th>accuracy</th>\n",
       "      <th>time</th>\n",
       "    </tr>\n",
       "  </thead>\n",
       "  <tbody>\n",
       "    <tr>\n",
       "      <td>0</td>\n",
       "      <td>2.192041</td>\n",
       "      <td>1.476872</td>\n",
       "      <td>0.674266</td>\n",
       "      <td>44:08</td>\n",
       "    </tr>\n",
       "  </tbody>\n",
       "</table>"
      ],
      "text/plain": [
       "<IPython.core.display.HTML object>"
      ]
     },
     "metadata": {},
     "output_type": "display_data"
    }
   ],
   "source": [
    "learn.fit_one_cycle(1, 2e-2, moms=(0.8,0.7))"
   ]
  },
  {
   "cell_type": "code",
   "execution_count": 29,
   "metadata": {},
   "outputs": [],
   "source": [
    "learn.save('first')"
   ]
  },
  {
   "cell_type": "code",
   "execution_count": 30,
   "metadata": {},
   "outputs": [],
   "source": [
    "learn.load('first');"
   ]
  },
  {
   "cell_type": "code",
   "execution_count": 31,
   "metadata": {},
   "outputs": [
    {
     "data": {
      "text/html": [
       "<table border=\"1\" class=\"dataframe\">\n",
       "  <thead>\n",
       "    <tr style=\"text-align: left;\">\n",
       "      <th>epoch</th>\n",
       "      <th>train_loss</th>\n",
       "      <th>valid_loss</th>\n",
       "      <th>accuracy</th>\n",
       "      <th>time</th>\n",
       "    </tr>\n",
       "  </thead>\n",
       "  <tbody>\n",
       "    <tr>\n",
       "      <td>0</td>\n",
       "      <td>1.842552</td>\n",
       "      <td>1.235800</td>\n",
       "      <td>0.722933</td>\n",
       "      <td>52:01</td>\n",
       "    </tr>\n",
       "  </tbody>\n",
       "</table>"
      ],
      "text/plain": [
       "<IPython.core.display.HTML object>"
      ]
     },
     "metadata": {},
     "output_type": "display_data"
    }
   ],
   "source": [
    "learn.freeze_to(-2)\n",
    "learn.fit_one_cycle(1, slice(1e-2/(2.6**4),1e-2), moms=(0.8,0.7))"
   ]
  },
  {
   "cell_type": "code",
   "execution_count": 32,
   "metadata": {},
   "outputs": [],
   "source": [
    "learn.save('second')"
   ]
  },
  {
   "cell_type": "code",
   "execution_count": 33,
   "metadata": {},
   "outputs": [],
   "source": [
    "learn.load('second');"
   ]
  },
  {
   "cell_type": "code",
   "execution_count": 34,
   "metadata": {},
   "outputs": [
    {
     "data": {
      "text/html": [
       "<table border=\"1\" class=\"dataframe\">\n",
       "  <thead>\n",
       "    <tr style=\"text-align: left;\">\n",
       "      <th>epoch</th>\n",
       "      <th>train_loss</th>\n",
       "      <th>valid_loss</th>\n",
       "      <th>accuracy</th>\n",
       "      <th>time</th>\n",
       "    </tr>\n",
       "  </thead>\n",
       "  <tbody>\n",
       "    <tr>\n",
       "      <td>0</td>\n",
       "      <td>1.334051</td>\n",
       "      <td>0.953636</td>\n",
       "      <td>0.789335</td>\n",
       "      <td>1:11:19</td>\n",
       "    </tr>\n",
       "  </tbody>\n",
       "</table>"
      ],
      "text/plain": [
       "<IPython.core.display.HTML object>"
      ]
     },
     "metadata": {},
     "output_type": "display_data"
    }
   ],
   "source": [
    "learn.freeze_to(-3)\n",
    "learn.fit_one_cycle(1, slice(5e-3/(2.6**4),5e-3), moms=(0.8,0.7))"
   ]
  },
  {
   "cell_type": "code",
   "execution_count": 35,
   "metadata": {},
   "outputs": [],
   "source": [
    "learn.save('third')"
   ]
  },
  {
   "cell_type": "code",
   "execution_count": 7,
   "metadata": {},
   "outputs": [],
   "source": [
    "learn.load('third');"
   ]
  },
  {
   "cell_type": "markdown",
   "metadata": {},
   "source": [
    "Added 2 additional cycles to original fastai version to see how if more improvement would arise, but not only slight incremental improvements were seen"
   ]
  },
  {
   "cell_type": "code",
   "execution_count": 14,
   "metadata": {},
   "outputs": [
    {
     "data": {
      "text/html": [
       "<table border=\"1\" class=\"dataframe\">\n",
       "  <thead>\n",
       "    <tr style=\"text-align: left;\">\n",
       "      <th>epoch</th>\n",
       "      <th>train_loss</th>\n",
       "      <th>valid_loss</th>\n",
       "      <th>accuracy</th>\n",
       "      <th>time</th>\n",
       "    </tr>\n",
       "  </thead>\n",
       "  <tbody>\n",
       "    <tr>\n",
       "      <td>0</td>\n",
       "      <td>1.291725</td>\n",
       "      <td>0.936086</td>\n",
       "      <td>0.792602</td>\n",
       "      <td>1:32:35</td>\n",
       "    </tr>\n",
       "    <tr>\n",
       "      <td>1</td>\n",
       "      <td>1.245329</td>\n",
       "      <td>0.897103</td>\n",
       "      <td>0.800529</td>\n",
       "      <td>1:41:53</td>\n",
       "    </tr>\n",
       "    <tr>\n",
       "      <td>2</td>\n",
       "      <td>1.143921</td>\n",
       "      <td>0.838687</td>\n",
       "      <td>0.814211</td>\n",
       "      <td>1:31:10</td>\n",
       "    </tr>\n",
       "    <tr>\n",
       "      <td>3</td>\n",
       "      <td>1.125541</td>\n",
       "      <td>0.816025</td>\n",
       "      <td>0.819897</td>\n",
       "      <td>1:37:25</td>\n",
       "    </tr>\n",
       "  </tbody>\n",
       "</table>"
      ],
      "text/plain": [
       "<IPython.core.display.HTML object>"
      ]
     },
     "metadata": {},
     "output_type": "display_data"
    }
   ],
   "source": [
    "learn.unfreeze()\n",
    "learn.fit_one_cycle(4, slice(1e-3/(2.6**4),1e-3), moms=(0.8,0.7))"
   ]
  },
  {
   "cell_type": "code",
   "execution_count": 15,
   "metadata": {},
   "outputs": [],
   "source": [
    "learn.save('fourth')"
   ]
  },
  {
   "cell_type": "code",
   "execution_count": 14,
   "metadata": {},
   "outputs": [
    {
     "data": {
      "text/plain": [
       "RNNLearner(data=TextClasDataBunch;\n",
       "\n",
       "Train: LabelList (810399 items)\n",
       "x: TextList\n",
       "xxbos xxmaj coming xxmaj out xxmaj advice xxmaj okay , so i am 19 years old and i have been in a relationship with a man ( i 'm a woman ) for over 5 years now . xxmaj he knows i 'm bisexual and i 'm at the point where i 'm ready to come out to everyone else . i want to come out to my immediate family first , but i 'm not sure how they 're going to take it . xxmaj what kind of advice would you give on doing this ? xxmaj i.e things to make sure to touch on , how to start the conversation , what to do if the conversation goes south , etc .,xxbos xxmaj finally xxmaj found my first gold weapon xxmaj it was ... okay.<lb><lb > xxmaj after couple of hours of tedious farming near the auto parts shop on the xxunk where you jump to the nearby tower and check what kind of weapon dropped there and after skipping couple of gold shotguns i have no use for i finally got it . xxmaj loco baseball bat . xxmaj and after 3 king upgrades i would say it 's good , but feels like it 's on par with orange katana and now i think i should 've farmed for the gold sword or something.<lb><lb > xxmaj any more gold melee weapon farming spots i should look at ? i am playing strictly single player on xxup pc . xxmaj what would be the best gold melee xxunk > xxmaj also , while we at it , best way to farm xxmaj king upgrades ?,xxbos xxmaj how do i configure django urls to make it so if it displays 404 , it xxunk to xxmaj reactjs xxmaj the title is terrible - sorry about that.<lb><lb > xxmaj so say i have a website say xxunk / . i 've configured my xxunk so that whenever the person enters xxunk it redirects them to the index.html ( where it displays the reactjs application ) . i 've set reactjs with react - router and made it so when you click a button on the index page it goes to xxunk / # / webpage . < lb><lb > xxmaj thing is ... i do n't want that . i want it to go to xxunk / webpage . i want react to handle this however and not django . xxup all of this url thing should be in the same application of index.html . xxmaj how do i configure django xxunk so that if i enter xxunk / webpage it goes to the index of xxunk reactjs 's application and then it checks to see if the route has webpage . xxmaj otherwise say if i went to xxunk / xxunk ( which the react route does n't have ) it should display a xxunk > xxmaj basically what i want to xxunk > xxmaj user goes to website.com / name < lb > > if website.com / name exists in django - it returns a html doc < lb > > if not then it redirects to website.com / where reactjs will handle the url and see if it matches any of the routers < lb > ... > if it does , then it displays that route < lb > ... > if not then it displays a django 404 or a custom 404 page.<lb><lb > xxmaj how do i configure django and reactjs to do this ?,xxbos eli5 xxmaj xxunk / xxmaj xxunk i have limited knowledge on the topic but i have heard that with xxmaj xxunk , mass xxunk and loss of jobs were some of what came with his economic policy . xxmaj however i 'm interested to know the background behind its implementations , what happened as a result / the effects it had and how its still relevant today .,xxbos xxmaj how come birthday llamas are n't a thing ? xxmaj not sure if people have talked about this before but for a game dead set on how loot is obtained i would have thought that birthday llamas would have been a thing given the style the loot is provided.<lb><lb > xxmaj or is it a dumb idea to give players a birthday pinata on their birthday ?\n",
       "y: CategoryList\n",
       "bisexual,dyinglight,django,newzealand,FORTnITE\n",
       "Path: /home/jupyter/tutorials/fastai/course-v3/nbs/dl1/data_rspct;\n",
       "\n",
       "Valid: LabelList (202601 items)\n",
       "x: TextList\n",
       "xxbos xxmaj question for people who have canceled their membership . i 'm thinking of cancelling my membership but i heard for a while that xxmaj moviepass is notorious for still charging you after you cancel . xxmaj for those of you who have done so recently , is it better now or am i going to have to go through a bunch of hoops to make sure i do n't get charged anymore ?,xxbos a theory about a fifth soul mode xxmaj so we all know about the four soul modes , each one connected to one of the six souls , the final two souls being the orange or blue objects which hurt you if you are moving or hurt you when you 're not moving , but what if the white objects that hurt you no matter what are connected with the monster 's souls ? xxmaj maybe in the white soul mode , in each attack session you receive a set amount of damage , like how monsters receive damage when you xxup fight . xxmaj it would make sense given how white objects deal a set amount of damage no matter what , and since all monsters have white souls , they would all be in this soul mode .,xxbos xxmaj bot xxmaj request : xxmaj that assigns roles based on the game being played - xxmaj dynamically ( xxmaj found one but it 's not perfect ) i am looking for a bot that can assign roles to people who are playing a specific game . xxmaj and then assign that role when they are not playing that game . i recently found \" xxunk \" bot which does do this , but the settings for it are very limited . xxmaj when i added the bot to my server it instantly created about 60 roles and assigned them to the specific people in my server ( around 800 users ) , without letting me set it up first . i want to be able to only assign roles to people for xxup specific games , and not every game , yet this bot does not allow this functionality . xxmaj does anyone know any other bots that do this with better backend support ?,xxbos xxmaj seal xxmaj dragon deck xxmaj profile xxmaj alrighty so this'll be my edited xxmaj seal xxmaj dragon deck with more of a control focus and heavy xxunk mechanic . xxmaj so without further ado , lets begin . < lb > xxmaj grade xxunk xxmaj seal xxmaj dragon , xxmaj xxunk ( xxmaj starting xxmaj xxunk xxmaj seal xxmaj dragon , xxmaj xxunk xxmaj xxunk ( xxmaj xxunk xxmaj xxunk xxmaj seal xxmaj dragon , xxmaj xxunk ( xxmaj vanilla xxmaj xxunk xxmaj seal xxmaj dragon , xxmaj xxunk ( xxmaj soul xxunk xxmaj xxunk xxmaj seal xxmaj dragon , xxmaj xxunk ( xxmaj heal xxmaj xxunk > xxmaj grade xxunk xxmaj seal xxmaj dragon , xxmaj xxunk ( xxmaj perfect xxmaj xxunk xxmaj energy xxmaj flame , xxmaj xxunk < lb>1x xxmaj dragon xxmaj knight , xxmaj xxunk < lb>4x xxmaj seal xxmaj dragon , xxmaj xxunk < lb>2x xxmaj lizard xxmaj soldier , xxmaj xxunk < lb><lb > xxmaj grade xxunk xxmaj seal xxmaj dragon , xxmaj xxunk < lb>2x xxmaj seal xxmaj dragon , xxmaj xxunk < lb>1x xxmaj berserk xxmaj lord xxmaj dragon < lb>2x xxmaj seal xxmaj dragon , xxmaj xxunk < lb>2x xxmaj xxunk xxmaj dragon < lb><lb > xxmaj grade xxunk xxmaj seal xxmaj dragon , xxmaj xxunk < lb>4x xxmaj hellfire xxmaj seal xxmaj dragon , xxmaj xxunk < lb>2x xxmaj hellfire xxmaj seal xxmaj dragon , xxmaj blockade xxmaj inferno < lb > xxmaj grade xxunk xxmaj xxunk xxmaj seal xxmaj dragon , xxmaj xxunk < lb>3x xxmaj supreme xxmaj heavenly xxmaj emperor xxmaj dragon , xxmaj dragonic xxmaj blademaster \" xxmaj xxunk xxmaj divine xxmaj dragon xxmaj knight , xxmaj mustafa < lb>1x xxmaj supreme xxmaj heavenly xxmaj emperor xxmaj dragon , xxmaj vortex xxmaj desire < lb>1x xxmaj dark xxmaj element , xxmaj dizmel < lb>1x xxmaj flame xxmaj emperor xxmaj dragon xxmaj king , xxmaj xxunk xxmaj orb xxmaj dragon < lb>3x xxmaj flame xxmaj wing xxmaj steel xxmaj beast , xxmaj denial xxmaj griffin < lb><lb > xxmaj alright so a brief rundown of my decks strategy . xxmaj as of right now seal dragon has this awesome \" you ca n't intercept \" strategy , but in practice it lacks focus . xxmaj this deck build is an attempt to make it a more control the board game with hand - traps and massive xxunk engine . xxmaj normally i would n't even think of running xxunk in a deck due to the extremely heavy xxunk , but xxmaj seal xxmaj dragon have something amazing codename \" xxmaj xxunk \" . xxmaj this dragon allows you to xxunk during your opponents turn . xxmaj it also does n't care if you retire the grade 2 's afterwards since its unit buff is n't xxup cont . i also found that xxmaj xxunk is cool and all , but xxmaj xxunk is much more of a plus for you since your opponent either xxunk their hand or gives you another card in hand . xxmaj xxunk gets the early game xxunk , but for me when it got to late game and i had xxmaj xxunk in hand . xxmaj problem is that when its late game my opponent usually has only his front xxunk . xxmaj then its a situation where i 'm put under pressure . xxmaj and with the additional soul from the 3k draw triggers i can spam xxmaj xxunk like no tomorrow . xxmaj also regarding my stride deck . xxmaj everything that i use have bonuses depending on how many i have flipped which leads to good transitions . i will be taking this deck to my locals in half a day so i 'll post results matchups and changes to the deck . < lb><lb > xxmaj the xxunk mainly be based on consistency xxunk : xxmaj if i can ride to xxmaj grade 3 . < lb>2 : xxmaj if my damage zone and soul is usable by xxmaj xxunk and xxmaj xxunk at all opportunities . < lb>3 : xxmaj if i am able to finish my opponent even without xxmaj xxunk : xxmaj what goes on with my xxunk and xxunk . ( xxmaj do n't want to go overboard either direction , cc less important . ) . < lb > xxmaj thanks for any constructive criticisms . xxmaj remember though that this is a * xxmaj rough * deck build , so edits will probably be made .,xxbos xxmaj another thing i just noticed in xxmaj half xxmaj blood xxmaj prince . xxmaj in xxmaj chapter three when xxmaj dumbledore arrives at the xxmaj xxunk 's xxunk xxmaj dumbledore , \" said xxmaj dumbledore , when xxmaj uncle xxmaj vernon failed to effect an introduction . \" xxmaj we have corresponded , of course . \" xxmaj harry thought this was an odd way of reminding xxmaj aunt xxmaj xxunk that he had once sent her an exploding letter , but xxmaj aunt xxmaj xxunk did not challenge the term.<lb><lb > xxmaj of course they 're talking about the xxmaj xxunk from xxup ootp but xxmaj dumbledore could also be talking about the letter she sent him as a kid !\n",
       "y: CategoryList\n",
       "MoviePassClub,Undertale,discordapp,cardfightvanguard,harrypotter\n",
       "Path: /home/jupyter/tutorials/fastai/course-v3/nbs/dl1/data_rspct;\n",
       "\n",
       "Test: None, model=SequentialRNN(\n",
       "  (0): MultiBatchEncoder(\n",
       "    (module): AWD_LSTM(\n",
       "      (encoder): Embedding(60000, 400, padding_idx=1)\n",
       "      (encoder_dp): EmbeddingDropout(\n",
       "        (emb): Embedding(60000, 400, padding_idx=1)\n",
       "      )\n",
       "      (rnns): ModuleList(\n",
       "        (0): WeightDropout(\n",
       "          (module): LSTM(400, 1152, batch_first=True)\n",
       "        )\n",
       "        (1): WeightDropout(\n",
       "          (module): LSTM(1152, 1152, batch_first=True)\n",
       "        )\n",
       "        (2): WeightDropout(\n",
       "          (module): LSTM(1152, 400, batch_first=True)\n",
       "        )\n",
       "      )\n",
       "      (input_dp): RNNDropout()\n",
       "      (hidden_dps): ModuleList(\n",
       "        (0): RNNDropout()\n",
       "        (1): RNNDropout()\n",
       "        (2): RNNDropout()\n",
       "      )\n",
       "    )\n",
       "  )\n",
       "  (1): PoolingLinearClassifier(\n",
       "    (layers): Sequential(\n",
       "      (0): BatchNorm1d(1200, eps=1e-05, momentum=0.1, affine=True, track_running_stats=True)\n",
       "      (1): Dropout(p=0.2, inplace=False)\n",
       "      (2): Linear(in_features=1200, out_features=50, bias=True)\n",
       "      (3): ReLU(inplace=True)\n",
       "      (4): BatchNorm1d(50, eps=1e-05, momentum=0.1, affine=True, track_running_stats=True)\n",
       "      (5): Dropout(p=0.1, inplace=False)\n",
       "      (6): Linear(in_features=50, out_features=1013, bias=True)\n",
       "    )\n",
       "  )\n",
       "), opt_func=functools.partial(<class 'torch.optim.adam.Adam'>, betas=(0.9, 0.99)), loss_func=FlattenedLoss of CrossEntropyLoss(), metrics=[<function accuracy at 0x7f32cd7ce680>], true_wd=True, bn_wd=True, wd=0.01, train_bn=True, path=PosixPath('/home/jupyter/tutorials/fastai/course-v3/nbs/dl1/data_rspct'), model_dir='models', callback_fns=[functools.partial(<class 'fastai.basic_train.Recorder'>, add_time=True, silent=False)], callbacks=[RNNTrainer\n",
       "learn: ...\n",
       "alpha: 2.0\n",
       "beta: 1.0], layer_groups=[Sequential(\n",
       "  (0): Embedding(60000, 400, padding_idx=1)\n",
       "  (1): EmbeddingDropout(\n",
       "    (emb): Embedding(60000, 400, padding_idx=1)\n",
       "  )\n",
       "), Sequential(\n",
       "  (0): WeightDropout(\n",
       "    (module): LSTM(400, 1152, batch_first=True)\n",
       "  )\n",
       "  (1): RNNDropout()\n",
       "), Sequential(\n",
       "  (0): WeightDropout(\n",
       "    (module): LSTM(1152, 1152, batch_first=True)\n",
       "  )\n",
       "  (1): RNNDropout()\n",
       "), Sequential(\n",
       "  (0): WeightDropout(\n",
       "    (module): LSTM(1152, 400, batch_first=True)\n",
       "  )\n",
       "  (1): RNNDropout()\n",
       "), Sequential(\n",
       "  (0): PoolingLinearClassifier(\n",
       "    (layers): Sequential(\n",
       "      (0): BatchNorm1d(1200, eps=1e-05, momentum=0.1, affine=True, track_running_stats=True)\n",
       "      (1): Dropout(p=0.2, inplace=False)\n",
       "      (2): Linear(in_features=1200, out_features=50, bias=True)\n",
       "      (3): ReLU(inplace=True)\n",
       "      (4): BatchNorm1d(50, eps=1e-05, momentum=0.1, affine=True, track_running_stats=True)\n",
       "      (5): Dropout(p=0.1, inplace=False)\n",
       "      (6): Linear(in_features=50, out_features=1013, bias=True)\n",
       "    )\n",
       "  )\n",
       ")], add_time=True, silent=False)"
      ]
     },
     "execution_count": 14,
     "metadata": {},
     "output_type": "execute_result"
    }
   ],
   "source": [
    "learn.load('fourth')"
   ]
  },
  {
   "cell_type": "code",
   "execution_count": 10,
   "metadata": {},
   "outputs": [
    {
     "data": {
      "text/plain": [
       "(Category declutter,\n",
       " tensor(546),\n",
       " tensor([2.6561e-05, 4.0106e-05, 1.6870e-06,  ..., 3.5514e-06, 3.7117e-06,\n",
       "         4.4614e-05]))"
      ]
     },
     "execution_count": 10,
     "metadata": {},
     "output_type": "execute_result"
    }
   ],
   "source": [
    "learn.predict(\"I just removed EVERYthing from the top of my fridge. Each thing is now either in the trash, donate box, or put away where it belongs and I don't have to see it. Took me all of 5 minutes!\")"
   ]
  },
  {
   "cell_type": "code",
   "execution_count": 47,
   "metadata": {},
   "outputs": [
    {
     "data": {
      "text/plain": [
       "(Category uBlockOrigin,\n",
       " tensor(954),\n",
       " tensor([1.5120e-04, 6.3988e-06, 6.9441e-06,  ..., 1.5181e-04, 1.0960e-04,\n",
       "         1.9779e-05]))"
      ]
     },
     "execution_count": 47,
     "metadata": {},
     "output_type": "execute_result"
    }
   ],
   "source": [
    "learn.predict(\"Does this mean I can get banned if I use adblock on YT and lose my gmail as well?\")"
   ]
  },
  {
   "cell_type": "code",
   "execution_count": 13,
   "metadata": {},
   "outputs": [
    {
     "data": {
      "text/plain": [
       "True"
      ]
     },
     "execution_count": 13,
     "metadata": {},
     "output_type": "execute_result"
    }
   ],
   "source": [
    "torch.cuda.is_available()"
   ]
  },
  {
   "cell_type": "code",
   "execution_count": 16,
   "metadata": {},
   "outputs": [
    {
     "data": {
      "text/html": [
       "<table border=\"1\" class=\"dataframe\">\n",
       "  <thead>\n",
       "    <tr style=\"text-align: right;\">\n",
       "      <th>Text</th>\n",
       "      <th>Prediction</th>\n",
       "      <th>Actual</th>\n",
       "      <th>Loss</th>\n",
       "      <th>Probability</th>\n",
       "    </tr>\n",
       "  </thead>\n",
       "  <tbody>\n",
       "    <tr>\n",
       "      <td>xxbos xxmaj the xxmaj joke xxmaj so a penguin and a farmer walk into a bar . xxmaj they sit next to a drunk guy and an unconscious xxunk . a drunk man asks the penguin what he s drinking . xxmaj the penguin does nt answer , he 's a penguin he ca n't talk of course . xxmaj the farmer watches finding the humor in the situation .</td>\n",
       "      <td>Jokes</td>\n",
       "      <td>orangeisthenewblack</td>\n",
       "      <td>20.39</td>\n",
       "      <td>0.00</td>\n",
       "    </tr>\n",
       "    <tr>\n",
       "      <td>xxbos xxmaj similarities with xxmaj elder xxmaj scrolls metaphysics i 'm still new to all this , but is n't this sort of something like the xxmaj xxunk or xxmaj chim metaphysical concepts in the xxmaj elder xxmaj scrolls xxunk &gt; xxmaj it seems that if you can gain access to influence the path you take , then you can eventually change almost anything , can you not ?</td>\n",
       "      <td>teslore</td>\n",
       "      <td>DimensionalJumping</td>\n",
       "      <td>19.86</td>\n",
       "      <td>0.00</td>\n",
       "    </tr>\n",
       "    <tr>\n",
       "      <td>xxbos xxmaj so .. can you ' date ' anyone in xxmaj salmon xxmaj team ? xxmaj this is my first post , so i 'm not sure what i 'm doing , but .. i heard about the xxunk , but i ca n't find any xxunk &gt; i really like xxmaj xxunk ( if you could n't tell ) and i was wondering if he had events in</td>\n",
       "      <td>splatoon</td>\n",
       "      <td>danganronpa</td>\n",
       "      <td>19.83</td>\n",
       "      <td>0.00</td>\n",
       "    </tr>\n",
       "    <tr>\n",
       "      <td>xxbos xxmaj kik support group ! xxmaj post your xxmaj kik username to be added to the group chat :) xxmaj after considering a few options , i figured xxmaj kik was a good fit . xxmaj it does n't require to give out your phone number and it 's easy to use . &lt; lb&gt;&lt;lb &gt; xxmaj if you do n't already have a xxmaj kik but you 're</td>\n",
       "      <td>KikRoleplay</td>\n",
       "      <td>emetophobia</td>\n",
       "      <td>19.25</td>\n",
       "      <td>0.00</td>\n",
       "    </tr>\n",
       "    <tr>\n",
       "      <td>xxbos xxmaj getting 404 error when trying to get xxmaj authentication token . xxmaj here is my code.&lt;lb&gt;&lt;lb &gt; public string xxunk xxunk &gt; { &lt; lb &gt; var request = ( xxunk . xxunk &gt; request . xxmaj method = \" xxunk &gt; request . xxunk \" ] = \" xxmaj basic \" + xxmaj convert . xxunk . xxmaj default . xxunk + \" : \" + xxunk</td>\n",
       "      <td>csharp</td>\n",
       "      <td>redditdev</td>\n",
       "      <td>19.24</td>\n",
       "      <td>0.00</td>\n",
       "    </tr>\n",
       "  </tbody>\n",
       "</table>"
      ],
      "text/plain": [
       "<IPython.core.display.HTML object>"
      ]
     },
     "metadata": {},
     "output_type": "display_data"
    }
   ],
   "source": [
    "txt_ci = TextClassificationInterpretation.from_learner(learn)\n",
    "txt_ci.show_top_losses(5)"
   ]
  },
  {
   "cell_type": "code",
   "execution_count": 15,
   "metadata": {},
   "outputs": [],
   "source": [
    "a = learn.get_preds(ds_type=DatasetType.Valid)"
   ]
  },
  {
   "cell_type": "code",
   "execution_count": 16,
   "metadata": {},
   "outputs": [],
   "source": [
    "interp = TextClassificationInterpretation.from_learner(learn)"
   ]
  },
  {
   "cell_type": "code",
   "execution_count": 46,
   "metadata": {},
   "outputs": [
    {
     "name": "stderr",
     "output_type": "stream",
     "text": [
      "/opt/conda/conda-bld/pytorch_1573049306803/work/aten/src/ATen/native/cuda/LegacyDefinitions.cpp:19: UserWarning: masked_fill_ received a mask with dtype torch.uint8, this behavior is now deprecated,please use a mask with dtype torch.bool instead.\n",
      "/opt/conda/conda-bld/pytorch_1573049306803/work/aten/src/ATen/native/cuda/LegacyDefinitions.cpp:19: UserWarning: masked_fill_ received a mask with dtype torch.uint8, this behavior is now deprecated,please use a mask with dtype torch.bool instead.\n",
      "/opt/conda/conda-bld/pytorch_1573049306803/work/aten/src/ATen/native/cuda/LegacyDefinitions.cpp:19: UserWarning: masked_fill_ received a mask with dtype torch.uint8, this behavior is now deprecated,please use a mask with dtype torch.bool instead.\n",
      "/opt/conda/conda-bld/pytorch_1573049306803/work/aten/src/ATen/native/cuda/LegacyDefinitions.cpp:19: UserWarning: masked_fill_ received a mask with dtype torch.uint8, this behavior is now deprecated,please use a mask with dtype torch.bool instead.\n"
     ]
    },
    {
     "data": {
      "text/html": [
       "<span style=\"font-family: monospace;\"><span title=\"0.006\" style=\"background-color: rgba(166, 1, 38, 0.5);\">xxbos</span> <span title=\"0.010\" style=\"background-color: rgba(168, 3, 38, 0.5);\">xxmaj</span> <span title=\"0.033\" style=\"background-color: rgba(180, 15, 38, 0.5);\">does</span> <span title=\"0.031\" style=\"background-color: rgba(178, 13, 38, 0.5);\">this</span> <span title=\"0.036\" style=\"background-color: rgba(182, 16, 38, 0.5);\">mean</span> <span title=\"0.021\" style=\"background-color: rgba(174, 9, 38, 0.5);\">i</span> <span title=\"0.030\" style=\"background-color: rgba(178, 13, 38, 0.5);\">can</span> <span title=\"0.043\" style=\"background-color: rgba(186, 20, 38, 0.5);\">get</span> <span title=\"0.291\" style=\"background-color: rgba(252, 167, 94, 0.5);\">banned</span> <span title=\"0.040\" style=\"background-color: rgba(184, 18, 38, 0.5);\">if</span> <span title=\"0.040\" style=\"background-color: rgba(184, 18, 38, 0.5);\">i</span> <span title=\"0.101\" style=\"background-color: rgba(214, 47, 38, 0.5);\">use</span> <span title=\"1.000\" style=\"background-color: rgba(0, 104, 55, 0.5);\">adblock</span> <span title=\"0.036\" style=\"background-color: rgba(182, 16, 38, 0.5);\">on</span> <span title=\"0.042\" style=\"background-color: rgba(184, 18, 38, 0.5);\">xxup</span> <span title=\"0.337\" style=\"background-color: rgba(253, 192, 112, 0.5);\">yt</span> <span title=\"0.015\" style=\"background-color: rgba(170, 5, 38, 0.5);\">and</span> <span title=\"0.067\" style=\"background-color: rgba(198, 32, 38, 0.5);\">lose</span> <span title=\"0.040\" style=\"background-color: rgba(184, 18, 38, 0.5);\">my</span> <span title=\"0.389\" style=\"background-color: rgba(253, 218, 134, 0.5);\">gmail</span> <span title=\"0.016\" style=\"background-color: rgba(172, 7, 38, 0.5);\">as</span> <span title=\"0.022\" style=\"background-color: rgba(174, 9, 38, 0.5);\">well</span> <span title=\"0.010\" style=\"background-color: rgba(168, 3, 38, 0.5);\">?</span></span>"
      ],
      "text/plain": [
       "<IPython.core.display.HTML object>"
      ]
     },
     "metadata": {},
     "output_type": "display_data"
    }
   ],
   "source": [
    "interp.show_intrinsic_attention(\"Does this mean I can get banned if I use adblock on YT and lose my gmail as well?\")"
   ]
  },
  {
   "cell_type": "code",
   "execution_count": 18,
   "metadata": {},
   "outputs": [
    {
     "data": {
      "text/html": [
       "<table border=\"1\" class=\"dataframe\">\n",
       "  <thead>\n",
       "    <tr style=\"text-align: right;\">\n",
       "      <th>Text</th>\n",
       "      <th>Prediction</th>\n",
       "      <th>Actual</th>\n",
       "      <th>Loss</th>\n",
       "      <th>Probability</th>\n",
       "    </tr>\n",
       "  </thead>\n",
       "  <tbody>\n",
       "    <tr>\n",
       "      <td>xxbos xxmaj the xxmaj joke xxmaj so a penguin and a farmer walk into a bar . xxmaj they sit next to a drunk guy and an unconscious xxunk . a drunk man asks the penguin what he s drinking . xxmaj the penguin does nt answer , he 's a penguin he ca n't talk of course . xxmaj the farmer watches finding the humor in the situation .</td>\n",
       "      <td>Jokes</td>\n",
       "      <td>orangeisthenewblack</td>\n",
       "      <td>20.39</td>\n",
       "      <td>0.00</td>\n",
       "    </tr>\n",
       "    <tr>\n",
       "      <td>xxbos xxmaj similarities with xxmaj elder xxmaj scrolls metaphysics i 'm still new to all this , but is n't this sort of something like the xxmaj xxunk or xxmaj chim metaphysical concepts in the xxmaj elder xxmaj scrolls xxunk &gt; xxmaj it seems that if you can gain access to influence the path you take , then you can eventually change almost anything , can you not ?</td>\n",
       "      <td>teslore</td>\n",
       "      <td>DimensionalJumping</td>\n",
       "      <td>19.86</td>\n",
       "      <td>0.00</td>\n",
       "    </tr>\n",
       "    <tr>\n",
       "      <td>xxbos xxmaj so .. can you ' date ' anyone in xxmaj salmon xxmaj team ? xxmaj this is my first post , so i 'm not sure what i 'm doing , but .. i heard about the xxunk , but i ca n't find any xxunk &gt; i really like xxmaj xxunk ( if you could n't tell ) and i was wondering if he had events in</td>\n",
       "      <td>splatoon</td>\n",
       "      <td>danganronpa</td>\n",
       "      <td>19.83</td>\n",
       "      <td>0.00</td>\n",
       "    </tr>\n",
       "    <tr>\n",
       "      <td>xxbos xxmaj kik support group ! xxmaj post your xxmaj kik username to be added to the group chat :) xxmaj after considering a few options , i figured xxmaj kik was a good fit . xxmaj it does n't require to give out your phone number and it 's easy to use . &lt; lb&gt;&lt;lb &gt; xxmaj if you do n't already have a xxmaj kik but you 're</td>\n",
       "      <td>KikRoleplay</td>\n",
       "      <td>emetophobia</td>\n",
       "      <td>19.25</td>\n",
       "      <td>0.00</td>\n",
       "    </tr>\n",
       "    <tr>\n",
       "      <td>xxbos xxmaj getting 404 error when trying to get xxmaj authentication token . xxmaj here is my code.&lt;lb&gt;&lt;lb &gt; public string xxunk xxunk &gt; { &lt; lb &gt; var request = ( xxunk . xxunk &gt; request . xxmaj method = \" xxunk &gt; request . xxunk \" ] = \" xxmaj basic \" + xxmaj convert . xxunk . xxmaj default . xxunk + \" : \" + xxunk</td>\n",
       "      <td>csharp</td>\n",
       "      <td>redditdev</td>\n",
       "      <td>19.24</td>\n",
       "      <td>0.00</td>\n",
       "    </tr>\n",
       "    <tr>\n",
       "      <td>xxbos xxmaj dynamic stretches before surfing ? i 'm pretty bad about stretching before going surfing in the mornings and i 'm attempting to remedy that . xxmaj can anyone point me in the direction of a good 5 minute dynamic stretching routine that 's specific for surfers and surfing ? i 'm especially interested in hip and thoracic xxunk &gt; i checked with the search bar and came up</td>\n",
       "      <td>surfing</td>\n",
       "      <td>flexibility</td>\n",
       "      <td>19.10</td>\n",
       "      <td>0.00</td>\n",
       "    </tr>\n",
       "    <tr>\n",
       "      <td>xxbos xxmaj desktop wallet 2.0 &lt; lb &gt; xxmaj hello , i need your help about redd wallet . i downloaded the core wallet 2.0 but for some days now does n't seem to be working i tried some few transfers from the exchanges but never received . the wallet it self never seems to finished synchronizing for over a week now still remaining one year 45 week . or</td>\n",
       "      <td>reddCoin</td>\n",
       "      <td>findareddit</td>\n",
       "      <td>18.91</td>\n",
       "      <td>0.00</td>\n",
       "    </tr>\n",
       "    <tr>\n",
       "      <td>xxbos xxmaj big xxmaj city xxmaj xxunk xxmaj fundraiser ! xxmaj hello everyone ! i need your help i 'm helping a fundraiser for xxmaj big xxmaj city xxmaj xxunk , which create transformative wilderness experiences for under - xxunk xxunk &gt; xxmaj olive is doing a challenge to help raise money which will be to run to the top of six peaks in six consecutive days , for a</td>\n",
       "      <td>Charity</td>\n",
       "      <td>climbing</td>\n",
       "      <td>18.83</td>\n",
       "      <td>0.00</td>\n",
       "    </tr>\n",
       "    <tr>\n",
       "      <td>xxbos xxmaj my mom 's visit xxmaj so since it 's a xxmaj sunday and i have some free time , i 'd thought i 'd ask for a little advice . xxmaj in my previous post , i mentioned i 'm joining the xxmaj coast xxmaj guard . i 'm swearing in this week and my mom is visiting . xxmaj my sister and i have a contingency plan</td>\n",
       "      <td>uscg</td>\n",
       "      <td>raisedbyborderlines</td>\n",
       "      <td>18.67</td>\n",
       "      <td>0.00</td>\n",
       "    </tr>\n",
       "    <tr>\n",
       "      <td>xxbos xxmaj this game reminds me of xxmaj resident xxmaj evil 4 in all of its best ways . xxmaj the camera , xxunk , how fun it is to kill wave after wave of enemies , the epic boss battles , the exploration in ever changing areas . &lt; lb&gt;&lt;lb &gt; xxmaj to me it really feels like xxup re4 . i have played xxup re4 numerous times but</td>\n",
       "      <td>residentevil</td>\n",
       "      <td>GodofWar</td>\n",
       "      <td>18.11</td>\n",
       "      <td>0.00</td>\n",
       "    </tr>\n",
       "  </tbody>\n",
       "</table>"
      ],
      "text/plain": [
       "<IPython.core.display.HTML object>"
      ]
     },
     "metadata": {},
     "output_type": "display_data"
    }
   ],
   "source": [
    "interp.show_top_losses(10)"
   ]
  },
  {
   "cell_type": "code",
   "execution_count": 19,
   "metadata": {},
   "outputs": [],
   "source": [
    "con_matrix = interp.confusion_matrix()"
   ]
  },
  {
   "cell_type": "code",
   "execution_count": 20,
   "metadata": {},
   "outputs": [
    {
     "data": {
      "text/plain": [
       "tensor(0.8199)"
      ]
     },
     "execution_count": 20,
     "metadata": {},
     "output_type": "execute_result"
    }
   ],
   "source": [
    "top_k_accuracy(a[0],a[1],1)"
   ]
  },
  {
   "cell_type": "code",
   "execution_count": 21,
   "metadata": {},
   "outputs": [
    {
     "data": {
      "text/plain": [
       "tensor(0.9091)"
      ]
     },
     "execution_count": 21,
     "metadata": {},
     "output_type": "execute_result"
    }
   ],
   "source": [
    "top_k_accuracy(a[0],a[1],3)"
   ]
  },
  {
   "cell_type": "code",
   "execution_count": 22,
   "metadata": {},
   "outputs": [
    {
     "data": {
      "text/plain": [
       "tensor(0.9312)"
      ]
     },
     "execution_count": 22,
     "metadata": {},
     "output_type": "execute_result"
    }
   ],
   "source": [
    "top_k_accuracy(a[0],a[1],5)"
   ]
  },
  {
   "cell_type": "code",
   "execution_count": 23,
   "metadata": {},
   "outputs": [
    {
     "data": {
      "text/plain": [
       "[('dndnext', '3d6', 58),\n",
       " ('networking', 'Cisco', 55),\n",
       " ('tall', 'short', 45),\n",
       " ('MPSelectMiniOwners', '3Dprinting', 40),\n",
       " ('MuayThai', 'amateur_boxing', 38),\n",
       " ('techsupport', 'windows', 36),\n",
       " ('uscg', 'newtothenavy', 34),\n",
       " ('Cisco', 'networking', 33),\n",
       " ('HomeDepot', 'walmart', 32),\n",
       " ('aznidentity', 'hapas', 32),\n",
       " ('dotnet', 'csharp', 32),\n",
       " ('ecommerce', 'dropship', 32),\n",
       " ('socialwork', 'psychotherapy', 32),\n",
       " ('csharp', 'dotnet', 31),\n",
       " ('socialism', 'communism101', 31),\n",
       " ('ADHD', 'adderall', 29),\n",
       " ('actuallesbians', 'bisexual', 29),\n",
       " ('asktrp', 'seduction', 28),\n",
       " ('hapas', 'aznidentity', 28),\n",
       " ('history', 'AskAnthropology', 28),\n",
       " ('minimalism', 'declutter', 28),\n",
       " ('photography', 'cinematography', 28),\n",
       " ('rstats', 'statistics', 28),\n",
       " ('dropship', 'ecommerce', 27)]"
      ]
     },
     "execution_count": 23,
     "metadata": {},
     "output_type": "execute_result"
    }
   ],
   "source": [
    "interp.most_confused(25,25)"
   ]
  },
  {
   "cell_type": "code",
   "execution_count": 33,
   "metadata": {},
   "outputs": [
    {
     "data": {
      "text/plain": [
       "0"
      ]
     },
     "execution_count": 33,
     "metadata": {},
     "output_type": "execute_result"
    }
   ],
   "source": [
    "con_matrix[1012][1011]"
   ]
  },
  {
   "cell_type": "code",
   "execution_count": 34,
   "metadata": {},
   "outputs": [],
   "source": [
    "with open('con_matrix.pkl', 'wb') as f:\n",
    "    pickle.dump(con_matrix,f)"
   ]
  },
  {
   "cell_type": "code",
   "execution_count": 36,
   "metadata": {},
   "outputs": [
    {
     "data": {
      "text/plain": [
       "PosixPath('.')"
      ]
     },
     "execution_count": 36,
     "metadata": {},
     "output_type": "execute_result"
    }
   ],
   "source": [
    "Path()"
   ]
  },
  {
   "cell_type": "code",
   "execution_count": null,
   "metadata": {},
   "outputs": [],
   "source": []
  }
 ],
 "metadata": {
  "kernelspec": {
   "display_name": "Python 3",
   "language": "python",
   "name": "python3"
  },
  "language_info": {
   "codemirror_mode": {
    "name": "ipython",
    "version": 3
   },
   "file_extension": ".py",
   "mimetype": "text/x-python",
   "name": "python",
   "nbconvert_exporter": "python",
   "pygments_lexer": "ipython3",
   "version": "3.7.3"
  }
 },
 "nbformat": 4,
 "nbformat_minor": 4
}
